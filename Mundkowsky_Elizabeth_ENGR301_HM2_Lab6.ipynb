{
 "cells": [
  {
   "cell_type": "code",
   "execution_count": 1,
   "metadata": {},
   "outputs": [],
   "source": [
    "import numpy as np\n",
    "import seaborn as sns\n",
    "import pandas as pd\n",
    "import matplotlib.pyplot as plt"
   ]
  },
  {
   "cell_type": "code",
   "execution_count": 2,
   "metadata": {},
   "outputs": [],
   "source": [
    "mvt = pd.read_csv(\"robots_movement.csv\")\n",
    "srf = pd.read_csv(\"robots_surface.csv\")"
   ]
  },
  {
   "cell_type": "code",
   "execution_count": 3,
   "metadata": {},
   "outputs": [
    {
     "data": {
      "text/html": [
       "<div>\n",
       "<style scoped>\n",
       "    .dataframe tbody tr th:only-of-type {\n",
       "        vertical-align: middle;\n",
       "    }\n",
       "\n",
       "    .dataframe tbody tr th {\n",
       "        vertical-align: top;\n",
       "    }\n",
       "\n",
       "    .dataframe thead th {\n",
       "        text-align: right;\n",
       "    }\n",
       "</style>\n",
       "<table border=\"1\" class=\"dataframe\">\n",
       "  <thead>\n",
       "    <tr style=\"text-align: right;\">\n",
       "      <th></th>\n",
       "      <th>series_id</th>\n",
       "      <th>measurement_number</th>\n",
       "      <th>angular_velocity_X</th>\n",
       "      <th>angular_velocity_Y</th>\n",
       "      <th>angular_velocity_Z</th>\n",
       "      <th>linear_acceleration_X</th>\n",
       "      <th>linear_acceleration_Y</th>\n",
       "      <th>linear_acceleration_Z</th>\n",
       "      <th>direction_X</th>\n",
       "      <th>direction_Y</th>\n",
       "      <th>direction_Z</th>\n",
       "    </tr>\n",
       "  </thead>\n",
       "  <tbody>\n",
       "    <tr>\n",
       "      <th>462075</th>\n",
       "      <td>3609</td>\n",
       "      <td>123</td>\n",
       "      <td>0.066507</td>\n",
       "      <td>-0.122230</td>\n",
       "      <td>0.025383</td>\n",
       "      <td>0.10144</td>\n",
       "      <td>4.9746</td>\n",
       "      <td>-8.1722</td>\n",
       "      <td>-2.042740</td>\n",
       "      <td>-0.005771</td>\n",
       "      <td>-2.062089</td>\n",
       "    </tr>\n",
       "    <tr>\n",
       "      <th>462076</th>\n",
       "      <td>3609</td>\n",
       "      <td>124</td>\n",
       "      <td>-0.027695</td>\n",
       "      <td>0.012149</td>\n",
       "      <td>0.033650</td>\n",
       "      <td>0.39107</td>\n",
       "      <td>5.7629</td>\n",
       "      <td>-6.6894</td>\n",
       "      <td>-2.042647</td>\n",
       "      <td>-0.005762</td>\n",
       "      <td>-2.062007</td>\n",
       "    </tr>\n",
       "    <tr>\n",
       "      <th>462077</th>\n",
       "      <td>3609</td>\n",
       "      <td>125</td>\n",
       "      <td>-0.113900</td>\n",
       "      <td>0.018233</td>\n",
       "      <td>0.025259</td>\n",
       "      <td>-2.60320</td>\n",
       "      <td>3.2469</td>\n",
       "      <td>-8.5506</td>\n",
       "      <td>-2.042579</td>\n",
       "      <td>-0.005832</td>\n",
       "      <td>-2.062040</td>\n",
       "    </tr>\n",
       "    <tr>\n",
       "      <th>462078</th>\n",
       "      <td>3609</td>\n",
       "      <td>126</td>\n",
       "      <td>-0.077650</td>\n",
       "      <td>-0.067154</td>\n",
       "      <td>0.037391</td>\n",
       "      <td>-0.21112</td>\n",
       "      <td>4.0604</td>\n",
       "      <td>-9.7362</td>\n",
       "      <td>-2.042499</td>\n",
       "      <td>-0.005699</td>\n",
       "      <td>-2.062177</td>\n",
       "    </tr>\n",
       "    <tr>\n",
       "      <th>462079</th>\n",
       "      <td>3609</td>\n",
       "      <td>127</td>\n",
       "      <td>-0.039713</td>\n",
       "      <td>-0.066432</td>\n",
       "      <td>0.057027</td>\n",
       "      <td>-1.69040</td>\n",
       "      <td>4.6022</td>\n",
       "      <td>-10.0840</td>\n",
       "      <td>-2.042425</td>\n",
       "      <td>-0.005584</td>\n",
       "      <td>-2.062376</td>\n",
       "    </tr>\n",
       "  </tbody>\n",
       "</table>\n",
       "</div>"
      ],
      "text/plain": [
       "        series_id  measurement_number  angular_velocity_X  angular_velocity_Y  \\\n",
       "462075       3609                 123            0.066507           -0.122230   \n",
       "462076       3609                 124           -0.027695            0.012149   \n",
       "462077       3609                 125           -0.113900            0.018233   \n",
       "462078       3609                 126           -0.077650           -0.067154   \n",
       "462079       3609                 127           -0.039713           -0.066432   \n",
       "\n",
       "        angular_velocity_Z  linear_acceleration_X  linear_acceleration_Y  \\\n",
       "462075            0.025383                0.10144                 4.9746   \n",
       "462076            0.033650                0.39107                 5.7629   \n",
       "462077            0.025259               -2.60320                 3.2469   \n",
       "462078            0.037391               -0.21112                 4.0604   \n",
       "462079            0.057027               -1.69040                 4.6022   \n",
       "\n",
       "        linear_acceleration_Z  direction_X  direction_Y  direction_Z  \n",
       "462075                -8.1722    -2.042740    -0.005771    -2.062089  \n",
       "462076                -6.6894    -2.042647    -0.005762    -2.062007  \n",
       "462077                -8.5506    -2.042579    -0.005832    -2.062040  \n",
       "462078                -9.7362    -2.042499    -0.005699    -2.062177  \n",
       "462079               -10.0840    -2.042425    -0.005584    -2.062376  "
      ]
     },
     "execution_count": 3,
     "metadata": {},
     "output_type": "execute_result"
    }
   ],
   "source": [
    "mvt.tail()"
   ]
  },
  {
   "cell_type": "code",
   "execution_count": 4,
   "metadata": {},
   "outputs": [
    {
     "data": {
      "text/html": [
       "<div>\n",
       "<style scoped>\n",
       "    .dataframe tbody tr th:only-of-type {\n",
       "        vertical-align: middle;\n",
       "    }\n",
       "\n",
       "    .dataframe tbody tr th {\n",
       "        vertical-align: top;\n",
       "    }\n",
       "\n",
       "    .dataframe thead th {\n",
       "        text-align: right;\n",
       "    }\n",
       "</style>\n",
       "<table border=\"1\" class=\"dataframe\">\n",
       "  <thead>\n",
       "    <tr style=\"text-align: right;\">\n",
       "      <th></th>\n",
       "      <th>series_id</th>\n",
       "      <th>group_id</th>\n",
       "      <th>surface</th>\n",
       "    </tr>\n",
       "  </thead>\n",
       "  <tbody>\n",
       "    <tr>\n",
       "      <th>0</th>\n",
       "      <td>0</td>\n",
       "      <td>13</td>\n",
       "      <td>fine_concrete</td>\n",
       "    </tr>\n",
       "    <tr>\n",
       "      <th>1</th>\n",
       "      <td>1</td>\n",
       "      <td>31</td>\n",
       "      <td>concrete</td>\n",
       "    </tr>\n",
       "    <tr>\n",
       "      <th>2</th>\n",
       "      <td>2</td>\n",
       "      <td>20</td>\n",
       "      <td>concrete</td>\n",
       "    </tr>\n",
       "    <tr>\n",
       "      <th>3</th>\n",
       "      <td>3</td>\n",
       "      <td>31</td>\n",
       "      <td>concrete</td>\n",
       "    </tr>\n",
       "    <tr>\n",
       "      <th>4</th>\n",
       "      <td>4</td>\n",
       "      <td>22</td>\n",
       "      <td>soft_tiles</td>\n",
       "    </tr>\n",
       "  </tbody>\n",
       "</table>\n",
       "</div>"
      ],
      "text/plain": [
       "   series_id  group_id        surface\n",
       "0          0        13  fine_concrete\n",
       "1          1        31       concrete\n",
       "2          2        20       concrete\n",
       "3          3        31       concrete\n",
       "4          4        22     soft_tiles"
      ]
     },
     "execution_count": 4,
     "metadata": {},
     "output_type": "execute_result"
    }
   ],
   "source": [
    "srf.head()"
   ]
  },
  {
   "cell_type": "code",
   "execution_count": 5,
   "metadata": {},
   "outputs": [
    {
     "data": {
      "text/plain": [
       "<AxesSubplot:xlabel='surface', ylabel='count'>"
      ]
     },
     "execution_count": 5,
     "metadata": {},
     "output_type": "execute_result"
    },
    {
     "data": {
      "image/png": "[encoded data removed]",
      "text/plain": [
       "<Figure size 1080x576 with 1 Axes>"
      ]
     },
     "metadata": {
      "needs_background": "light"
     },
     "output_type": "display_data"
    }
   ],
   "source": [
    "plt.figure(figsize = (15,8))\n",
    "sns.countplot(x=srf[\"surface\"])"
   ]
  },
  {
   "cell_type": "markdown",
   "metadata": {},
   "source": [
    "PART 1 QUESTION 2\n",
    "\n",
    "There are 9 types of surfaces.\n",
    "The different types of surfaces are fine concrete, concrete, soft tiles, tiled, soft PVC, hard tiles large space, carpet, hard tiles, and wood. \n",
    "The distribution of different surface types is not uniform - there are over 700 experiments with concrete while less than 100 experiments with hard tiles. Overall, every surface was tested for at least 100 experiments except for hard tiles, so the distribution is almost balanced but may need resampling or SMOTE for the hard tiles data."
   ]
  },
  {
   "cell_type": "code",
   "execution_count": 6,
   "metadata": {},
   "outputs": [
    {
     "data": {
      "text/plain": [
       "<AxesSubplot:>"
      ]
     },
     "execution_count": 6,
     "metadata": {},
     "output_type": "execute_result"
    },
    {
     "data": {
      "image/png": "[encoded data removed]",
      "text/plain": [
       "<Figure size 864x864 with 2 Axes>"
      ]
     },
     "metadata": {
      "needs_background": "light"
     },
     "output_type": "display_data"
    }
   ],
   "source": [
    "plt.figure(figsize=(12,12))\n",
    "sns.heatmap(mvt.corr(),annot=True)"
   ]
  },
  {
   "cell_type": "markdown",
   "metadata": {},
   "source": [
    "PART QUESTION 3\n",
    "\n",
    "There is overall weak correlation between the input features, except for between angular velocity in the y and z direction, which have a strong negative correlation. This may mean the robot is not capable of moving in the y and z direction at the same time, or may have been constrained by the set up of the experiment or its physical constraints (i.e. a sloped surface, programmed path)."
   ]
  },
  {
   "cell_type": "code",
   "execution_count": 7,
   "metadata": {},
   "outputs": [
    {
     "data": {
      "text/plain": [
       "Text(0, 0.5, 'Angular Velocity X')"
      ]
     },
     "execution_count": 7,
     "metadata": {},
     "output_type": "execute_result"
    },
    {
     "data": {
      "image/png": "[encoded data removed]",
      "text/plain": [
       "<Figure size 432x288 with 1 Axes>"
      ]
     },
     "metadata": {
      "needs_background": "light"
     },
     "output_type": "display_data"
    }
   ],
   "source": [
    "plt.scatter(mvt[mvt[\"series_id\"]==0][\"measurement_number\"],mvt[mvt[\"series_id\"]==0][\"angular_velocity_X\"])\n",
    "plt.xlabel(\"Time Steps\")\n",
    "plt.ylabel(\"Angular Velocity X\")"
   ]
  },
  {
   "cell_type": "code",
   "execution_count": 8,
   "metadata": {},
   "outputs": [
    {
     "data": {
      "text/plain": [
       "Text(0, 0.5, 'Angular Velocity Y')"
      ]
     },
     "execution_count": 8,
     "metadata": {},
     "output_type": "execute_result"
    },
    {
     "data": {
      "image/png": "[encoded data removed]",
      "text/plain": [
       "<Figure size 432x288 with 1 Axes>"
      ]
     },
     "metadata": {
      "needs_background": "light"
     },
     "output_type": "display_data"
    }
   ],
   "source": [
    "plt.scatter(mvt[mvt[\"series_id\"]==0][\"measurement_number\"],mvt[mvt[\"series_id\"]==0][\"angular_velocity_Y\"])\n",
    "plt.xlabel(\"Time Steps\")\n",
    "plt.ylabel(\"Angular Velocity Y\")"
   ]
  },
  {
   "cell_type": "code",
   "execution_count": 9,
   "metadata": {},
   "outputs": [
    {
     "data": {
      "text/plain": [
       "Text(0, 0.5, 'Angular Velocity Z')"
      ]
     },
     "execution_count": 9,
     "metadata": {},
     "output_type": "execute_result"
    },
    {
     "data": {
      "image/png": "[encoded data removed]",
      "text/plain": [
       "<Figure size 432x288 with 1 Axes>"
      ]
     },
     "metadata": {
      "needs_background": "light"
     },
     "output_type": "display_data"
    }
   ],
   "source": [
    "plt.scatter(mvt[mvt[\"series_id\"]==0][\"measurement_number\"],mvt[mvt[\"series_id\"]==0][\"angular_velocity_Z\"])\n",
    "plt.xlabel(\"Time Steps\")\n",
    "plt.ylabel(\"Angular Velocity Z\")"
   ]
  },
  {
   "cell_type": "code",
   "execution_count": 10,
   "metadata": {},
   "outputs": [
    {
     "data": {
      "text/plain": [
       "Text(0, 0.5, 'Linear Acceleration X')"
      ]
     },
     "execution_count": 10,
     "metadata": {},
     "output_type": "execute_result"
    },
    {
     "data": {
      "image/png": "[encoded data removed]",
      "text/plain": [
       "<Figure size 432x288 with 1 Axes>"
      ]
     },
     "metadata": {
      "needs_background": "light"
     },
     "output_type": "display_data"
    }
   ],
   "source": [
    "plt.scatter(mvt[mvt[\"series_id\"]==0][\"measurement_number\"],mvt[mvt[\"series_id\"]==0][\"linear_acceleration_X\"])\n",
    "plt.xlabel(\"Time Steps\")\n",
    "plt.ylabel(\"Linear Acceleration X\")"
   ]
  },
  {
   "cell_type": "code",
   "execution_count": 11,
   "metadata": {},
   "outputs": [
    {
     "data": {
      "text/plain": [
       "Text(0, 0.5, 'Linear Acceleration Y')"
      ]
     },
     "execution_count": 11,
     "metadata": {},
     "output_type": "execute_result"
    },
    {
     "data": {
      "image/png": "[encoded data removed]",
      "text/plain": [
       "<Figure size 432x288 with 1 Axes>"
      ]
     },
     "metadata": {
      "needs_background": "light"
     },
     "output_type": "display_data"
    }
   ],
   "source": [
    "plt.scatter(mvt[mvt[\"series_id\"]==0][\"measurement_number\"],mvt[mvt[\"series_id\"]==0][\"linear_acceleration_Y\"])\n",
    "plt.xlabel(\"Time Steps\")\n",
    "plt.ylabel(\"Linear Acceleration Y\")"
   ]
  },
  {
   "cell_type": "code",
   "execution_count": 12,
   "metadata": {},
   "outputs": [
    {
     "data": {
      "text/plain": [
       "Text(0, 0.5, 'Linear Acceleration Z')"
      ]
     },
     "execution_count": 12,
     "metadata": {},
     "output_type": "execute_result"
    },
    {
     "data": {
      "image/png": "[encoded data removed]",
      "text/plain": [
       "<Figure size 432x288 with 1 Axes>"
      ]
     },
     "metadata": {
      "needs_background": "light"
     },
     "output_type": "display_data"
    }
   ],
   "source": [
    "plt.scatter(mvt[mvt[\"series_id\"]==0][\"measurement_number\"],mvt[mvt[\"series_id\"]==0][\"linear_acceleration_Z\"])\n",
    "plt.xlabel(\"Time Steps\")\n",
    "plt.ylabel(\"Linear Acceleration Z\")"
   ]
  },
  {
   "cell_type": "code",
   "execution_count": 13,
   "metadata": {},
   "outputs": [
    {
     "data": {
      "text/plain": [
       "Text(0, 0.5, 'Direction X')"
      ]
     },
     "execution_count": 13,
     "metadata": {},
     "output_type": "execute_result"
    },
    {
     "data": {
      "image/png": "[encoded data removed]",
      "text/plain": [
       "<Figure size 432x288 with 1 Axes>"
      ]
     },
     "metadata": {
      "needs_background": "light"
     },
     "output_type": "display_data"
    }
   ],
   "source": [
    "plt.scatter(mvt[mvt[\"series_id\"]==0][\"measurement_number\"],mvt[mvt[\"series_id\"]==0][\"direction_X\"])\n",
    "plt.xlabel(\"Time Steps\")\n",
    "plt.ylabel(\"Direction X\")"
   ]
  },
  {
   "cell_type": "code",
   "execution_count": 14,
   "metadata": {},
   "outputs": [
    {
     "data": {
      "text/plain": [
       "Text(0, 0.5, 'Direction Y')"
      ]
     },
     "execution_count": 14,
     "metadata": {},
     "output_type": "execute_result"
    },
    {
     "data": {
      "image/png": "[encoded data removed]",
      "text/plain": [
       "<Figure size 432x288 with 1 Axes>"
      ]
     },
     "metadata": {
      "needs_background": "light"
     },
     "output_type": "display_data"
    }
   ],
   "source": [
    "plt.scatter(mvt[mvt[\"series_id\"]==0][\"measurement_number\"],mvt[mvt[\"series_id\"]==0][\"direction_Y\"])\n",
    "plt.xlabel(\"Time Steps\")\n",
    "plt.ylabel(\"Direction Y\")"
   ]
  },
  {
   "cell_type": "code",
   "execution_count": 15,
   "metadata": {},
   "outputs": [
    {
     "data": {
      "text/plain": [
       "Text(0, 0.5, 'Direction Z')"
      ]
     },
     "execution_count": 15,
     "metadata": {},
     "output_type": "execute_result"
    },
    {
     "data": {
      "image/png": "[encoded data removed]",
      "text/plain": [
       "<Figure size 432x288 with 1 Axes>"
      ]
     },
     "metadata": {
      "needs_background": "light"
     },
     "output_type": "display_data"
    }
   ],
   "source": [
    "plt.scatter(mvt[mvt[\"series_id\"]==0][\"measurement_number\"],mvt[mvt[\"series_id\"]==0][\"direction_Z\"])\n",
    "plt.xlabel(\"Time Steps\")\n",
    "plt.ylabel(\"Direction Z\")"
   ]
  },
  {
   "cell_type": "markdown",
   "metadata": {},
   "source": [
    "PART 1 QUESTION 4\n",
    "\n",
    "There is a pattern or relationship between the angular velocity and time, linear acceleration and time, and direction and time for the x, y, and z components. It seems like the robot is moving in a circle because both x and y angular velocities and linear accelerations following a curve similar to a sine curve. "
   ]
  },
  {
   "cell_type": "code",
   "execution_count": 16,
   "metadata": {},
   "outputs": [],
   "source": [
    "mvt_grouped = mvt.groupby(\"series_id\").mean()"
   ]
  },
  {
   "cell_type": "code",
   "execution_count": 17,
   "metadata": {},
   "outputs": [
    {
     "data": {
      "text/plain": [
       "(3610, 10)"
      ]
     },
     "execution_count": 17,
     "metadata": {},
     "output_type": "execute_result"
    }
   ],
   "source": [
    "mvt_grouped.shape"
   ]
  },
  {
   "cell_type": "markdown",
   "metadata": {},
   "source": [
    "PART 2 QUESTION 1 \n",
    "\n",
    "The shape of the movement data grouped by the mean of the series IDs is 3610 rows with 10 columns."
   ]
  },
  {
   "cell_type": "code",
   "execution_count": 18,
   "metadata": {},
   "outputs": [],
   "source": [
    "x = mvt_grouped.drop([\"measurement_number\"],axis=1)"
   ]
  },
  {
   "cell_type": "code",
   "execution_count": 19,
   "metadata": {},
   "outputs": [],
   "source": [
    "y = srf[\"surface\"]"
   ]
  },
  {
   "cell_type": "code",
   "execution_count": 20,
   "metadata": {},
   "outputs": [
    {
     "data": {
      "text/plain": [
       "0       fine_concrete\n",
       "1            concrete\n",
       "2            concrete\n",
       "3            concrete\n",
       "4          soft_tiles\n",
       "            ...      \n",
       "3605            tiled\n",
       "3606         concrete\n",
       "3607         soft_pvc\n",
       "3608         soft_pvc\n",
       "3609         concrete\n",
       "Name: surface, Length: 3610, dtype: object"
      ]
     },
     "execution_count": 20,
     "metadata": {},
     "output_type": "execute_result"
    }
   ],
   "source": [
    "y"
   ]
  },
  {
   "cell_type": "code",
   "execution_count": 21,
   "metadata": {},
   "outputs": [],
   "source": [
    "from sklearn.preprocessing import LabelEncoder\n",
    "\n",
    "encoder = LabelEncoder()\n",
    "\n",
    "y = encoder.fit_transform(y)"
   ]
  },
  {
   "cell_type": "code",
   "execution_count": 22,
   "metadata": {},
   "outputs": [
    {
     "data": {
      "text/plain": [
       "array([2, 1, 1, ..., 5, 5, 1])"
      ]
     },
     "execution_count": 22,
     "metadata": {},
     "output_type": "execute_result"
    }
   ],
   "source": [
    "y"
   ]
  },
  {
   "cell_type": "code",
   "execution_count": 23,
   "metadata": {},
   "outputs": [],
   "source": [
    "from sklearn.model_selection import train_test_split\n",
    "\n",
    "x_train,x_test,y_train,y_test = train_test_split(x,y,test_size = 0.3)"
   ]
  },
  {
   "cell_type": "code",
   "execution_count": 24,
   "metadata": {},
   "outputs": [],
   "source": [
    "from sklearn.preprocessing import StandardScaler\n",
    "\n",
    "scaler = StandardScaler()\n",
    "\n",
    "x_train_scaled = scaler.fit_transform(x_train)\n",
    "x_test_scaled = scaler.transform(x_test)"
   ]
  },
  {
   "cell_type": "code",
   "execution_count": 25,
   "metadata": {},
   "outputs": [
    {
     "name": "stdout",
     "output_type": "stream",
     "text": [
      "0.3197467352592006\n",
      "0.32409972299168976\n",
      "[[  4   1   1   0   0   2   1   0   3]\n",
      " [ 25 130  36   0  27  51  47  43  48]\n",
      " [  1   1   0   0   0   1   0   0   0]\n",
      " [  0   0   0   0   0   0   0   0   0]\n",
      " [  0   1   4   0   1   4   0   6   0]\n",
      " [  1  42  21   4  46 120  37  58  26]\n",
      " [  0   3   9   0   0   3   0   0   0]\n",
      " [  3  11   6   0   0  15   0  18   6]\n",
      " [ 14  32  28   3  18  18   4  21  78]]\n",
      "              precision    recall  f1-score   support\n",
      "\n",
      "           0       0.08      0.33      0.13        12\n",
      "           1       0.59      0.32      0.41       407\n",
      "           2       0.00      0.00      0.00         3\n",
      "           3       0.00      0.00      0.00         0\n",
      "           4       0.01      0.06      0.02        16\n",
      "           5       0.56      0.34      0.42       355\n",
      "           6       0.00      0.00      0.00        15\n",
      "           7       0.12      0.31      0.18        59\n",
      "           8       0.48      0.36      0.41       216\n",
      "\n",
      "    accuracy                           0.32      1083\n",
      "   macro avg       0.21      0.19      0.18      1083\n",
      "weighted avg       0.51      0.32      0.39      1083\n",
      "\n"
     ]
    },
    {
     "name": "stderr",
     "output_type": "stream",
     "text": [
      "C:\\Users\\emund\\AppData\\Local\\Programs\\ArcGIS\\Pro\\bin\\Python\\envs\\arcgispro-py3\\lib\\site-packages\\sklearn\\metrics\\_classification.py:1318: UndefinedMetricWarning: Recall and F-score are ill-defined and being set to 0.0 in labels with no true samples. Use `zero_division` parameter to control this behavior.\n",
      "  _warn_prf(average, modifier, msg_start, len(result))\n",
      "C:\\Users\\emund\\AppData\\Local\\Programs\\ArcGIS\\Pro\\bin\\Python\\envs\\arcgispro-py3\\lib\\site-packages\\sklearn\\metrics\\_classification.py:1318: UndefinedMetricWarning: Recall and F-score are ill-defined and being set to 0.0 in labels with no true samples. Use `zero_division` parameter to control this behavior.\n",
      "  _warn_prf(average, modifier, msg_start, len(result))\n",
      "C:\\Users\\emund\\AppData\\Local\\Programs\\ArcGIS\\Pro\\bin\\Python\\envs\\arcgispro-py3\\lib\\site-packages\\sklearn\\metrics\\_classification.py:1318: UndefinedMetricWarning: Recall and F-score are ill-defined and being set to 0.0 in labels with no true samples. Use `zero_division` parameter to control this behavior.\n",
      "  _warn_prf(average, modifier, msg_start, len(result))\n"
     ]
    }
   ],
   "source": [
    "from sklearn.linear_model import LogisticRegression\n",
    "from sklearn import metrics\n",
    "\n",
    "lr = LogisticRegression(max_iter=500)\n",
    "lr.fit(x_train_scaled, y_train)\n",
    "\n",
    "print(lr.score(x_train_scaled,y_train))\n",
    "\n",
    "y_pred_lr = lr.predict(x_test_scaled)\n",
    "print(metrics.accuracy_score(y_test,y_pred_lr))\n",
    "print(metrics.confusion_matrix(y_pred_lr,y_test))\n",
    "#[\"fine_concrete\",\"concrete\",\"soft_tiles\",\"tiled\",\"soft_pvc\",\"hard_tiles_large_space\",\"carpet\",\"hard_tiles\",\"wood\"]]\n",
    "print(metrics.classification_report(y_pred_lr,y_test))"
   ]
  },
  {
   "cell_type": "markdown",
   "metadata": {},
   "source": [
    "PART 2 QUESTION 4\n",
    "\n",
    "This model performs very poorly. This is partially due to the imbalance in the distribution of data and the way the training group was broken as seen by one of the surface types excluded from the training group entirely. The accuracy is very low, below 0.5 and the confusion matrix shows many misclassifications. The poor performance could also be due to some correlation between the y and z angular velocity."
   ]
  },
  {
   "cell_type": "code",
   "execution_count": 26,
   "metadata": {},
   "outputs": [
    {
     "name": "stdout",
     "output_type": "stream",
     "text": [
      "0.7882865057380293\n",
      "0.5235457063711911\n",
      "[[ 27  22   4   0   3   6   2   7  13]\n",
      " [ 15 125  14   0  18  24   7  34  25]\n",
      " [  1  11  57   3   6  14   3   7   8]\n",
      " [  0   1   0   1   3   3   3   0   0]\n",
      " [  0  14   4   1  41  11   8   4  10]\n",
      " [  1  25  18   0  14 143   7  35  23]\n",
      " [  0   6   3   0   4   4  58  10   8]\n",
      " [  0  11   0   0   1   6   1  45   4]\n",
      " [  4   6   5   2   2   3   0   4  70]]\n",
      "              precision    recall  f1-score   support\n",
      "\n",
      "           0       0.56      0.32      0.41        84\n",
      "           1       0.57      0.48      0.52       262\n",
      "           2       0.54      0.52      0.53       110\n",
      "           3       0.14      0.09      0.11        11\n",
      "           4       0.45      0.44      0.44        93\n",
      "           5       0.67      0.54      0.60       266\n",
      "           6       0.65      0.62      0.64        93\n",
      "           7       0.31      0.66      0.42        68\n",
      "           8       0.43      0.73      0.54        96\n",
      "\n",
      "    accuracy                           0.52      1083\n",
      "   macro avg       0.48      0.49      0.47      1083\n",
      "weighted avg       0.55      0.52      0.53      1083\n",
      "\n"
     ]
    }
   ],
   "source": [
    "from sklearn.neighbors import KNeighborsClassifier\n",
    "\n",
    "knn = KNeighborsClassifier(n_neighbors = 2)\n",
    "knn.fit(x_train_scaled,y_train)\n",
    "\n",
    "print(knn.score(x_train_scaled,y_train))\n",
    "\n",
    "y_pred_knn = knn.predict(x_test_scaled)\n",
    "print(metrics.accuracy_score(y_test,y_pred_knn))\n",
    "print(metrics.confusion_matrix(y_pred_knn,y_test))\n",
    "print(metrics.classification_report(y_pred_knn,y_test))"
   ]
  },
  {
   "cell_type": "markdown",
   "metadata": {},
   "source": [
    "PART 2 QUESTION 5\n",
    "\n",
    "The K Nearest Neighbors model performs significantly better than the logistic regression model, although still poorly with an accuracy score of 0.79 on the training data and a score of 0.53 on the test data. The precision and recall are also unbalanced for certain surfaces, with the 8th encoded surface having a precision of 0.36 but a recall of 0.73."
   ]
  },
  {
   "cell_type": "code",
   "execution_count": 27,
   "metadata": {},
   "outputs": [
    {
     "name": "stdout",
     "output_type": "stream",
     "text": [
      "0.5789488019731213\n",
      "{'metric': 'l1', 'n_neighbors': 5}\n",
      "KNeighborsClassifier(metric='l1')\n"
     ]
    }
   ],
   "source": [
    "from sklearn.model_selection import GridSearchCV\n",
    "\n",
    "grid_params = {\n",
    "    \"n_neighbors\":[5,6,7,8,9,10],\n",
    "    \"metric\":['l1','l2']\n",
    "}\n",
    "\n",
    "gs = GridSearchCV(\n",
    "    KNeighborsClassifier(),\n",
    "    grid_params,\n",
    "    cv = 3\n",
    ")\n",
    "\n",
    "gs_results = gs.fit(x_train_scaled,y_train)\n",
    "print(gs_results.best_score_)\n",
    "print(gs_results.best_params_)\n",
    "print(gs_results.best_estimator_)"
   ]
  },
  {
   "cell_type": "code",
   "execution_count": 28,
   "metadata": {},
   "outputs": [
    {
     "name": "stdout",
     "output_type": "stream",
     "text": [
      "0.7253660466956866\n",
      "0.6103416435826408\n",
      "[[ 19   5   0   0   0   1   0   6   5]\n",
      " [ 11 136   7   0   9   3   2  23  20]\n",
      " [  6   7  56   1   5   5   1   5   3]\n",
      " [  0   0   0   1   3   0   1   0   0]\n",
      " [  0   9   4   1  40   6   3   2   4]\n",
      " [  2  30  15   1  15 180   9  28  25]\n",
      " [  0  11   5   0  12   3  71  10   3]\n",
      " [  3  10   1   0   4  11   2  62   5]\n",
      " [  7  13  17   3   4   5   0  10  96]]\n",
      "              precision    recall  f1-score   support\n",
      "\n",
      "           0       0.40      0.53      0.45        36\n",
      "           1       0.62      0.64      0.63       211\n",
      "           2       0.53      0.63      0.58        89\n",
      "           3       0.14      0.20      0.17         5\n",
      "           4       0.43      0.58      0.50        69\n",
      "           5       0.84      0.59      0.69       305\n",
      "           6       0.80      0.62      0.70       115\n",
      "           7       0.42      0.63      0.51        98\n",
      "           8       0.60      0.62      0.61       155\n",
      "\n",
      "    accuracy                           0.61      1083\n",
      "   macro avg       0.53      0.56      0.54      1083\n",
      "weighted avg       0.65      0.61      0.62      1083\n",
      "\n"
     ]
    }
   ],
   "source": [
    "knn = KNeighborsClassifier(n_neighbors = 7,metric='l1')\n",
    "knn.fit(x_train_scaled,y_train)\n",
    "\n",
    "print(knn.score(x_train_scaled,y_train))\n",
    "\n",
    "y_pred_knn = knn.predict(x_test_scaled)\n",
    "print(metrics.accuracy_score(y_test,y_pred_knn))\n",
    "print(metrics.confusion_matrix(y_pred_knn,y_test))\n",
    "print(metrics.classification_report(y_pred_knn,y_test))"
   ]
  },
  {
   "cell_type": "markdown",
   "metadata": {},
   "source": [
    "PART 2 QUESTION 6A\n",
    "\n",
    "The best parameters are Manhattan distances (l1) for the metric and 7 neighbors. Yes, this improves the performance of the model from a score of 0.53 to a score of 0.59 because GridSearchCV ran the K Nearest Neighbors model multiple times with different combinations of distance metrics and numbers of nearest neighbors as well as performed cross validation, which means resampling the data to check if the model was overfit to one sample of data.\n",
    "\n",
    "PART 2 QUESTION 6B\n",
    "\n",
    "Yes, with the optimized hyperparamters, this improves the performance of the model because the score on the test data increased from 0.53 to 0.61 and the precision and recall generally increased. Whereas before the average precision and recall were approximately 0.5, after using GridSearchCV, the average precision and recall were about 0.6."
   ]
  },
  {
   "cell_type": "code",
   "execution_count": 29,
   "metadata": {},
   "outputs": [
    {
     "data": {
      "text/plain": [
       "RandomForestClassifier(n_estimators=800)"
      ]
     },
     "execution_count": 29,
     "metadata": {},
     "output_type": "execute_result"
    }
   ],
   "source": [
    "from sklearn.impute import KNNImputer\n",
    "\n",
    "imputer = KNNImputer()\n",
    "imputer.fit(x_train_scaled)\n",
    "\n",
    "x_train_imp = pd.DataFrame(imputer.transform(x_train_scaled), columns = x_train.columns)\n",
    "x_test_imp = pd.DataFrame(imputer.transform(x_test_scaled), columns = x_test.columns)\n",
    "\n",
    "from sklearn.ensemble import RandomForestClassifier\n",
    "\n",
    "rf = RandomForestClassifier(n_estimators = 800)\n",
    "\n",
    "rf.fit(x_train_imp, y_train)"
   ]
  },
  {
   "cell_type": "code",
   "execution_count": 30,
   "metadata": {},
   "outputs": [
    {
     "name": "stdout",
     "output_type": "stream",
     "text": [
      "1.0\n",
      "0.8005540166204986\n",
      "[[ 34   5   1   0   0   0   0   4   4]\n",
      " [  0 180   6   0   2  14   6   1  12]\n",
      " [  0   4  79   0   0   5   0   3  14]\n",
      " [  0   0   0   1   1   0   0   0   5]\n",
      " [  3   4   2   0  65   8   3   0   7]\n",
      " [  0   5   2   0   2 187   1   7  10]\n",
      " [  2   6   0   0   0   0  79   0   2]\n",
      " [  3   6   0   0   0   3   0 130   4]\n",
      " [  7  15   2   0   4  15   3   3 112]]\n",
      "              precision    recall  f1-score   support\n",
      "\n",
      "           0       0.69      0.71      0.70        48\n",
      "           1       0.80      0.81      0.81       221\n",
      "           2       0.86      0.75      0.80       105\n",
      "           3       1.00      0.14      0.25         7\n",
      "           4       0.88      0.71      0.78        92\n",
      "           5       0.81      0.87      0.84       214\n",
      "           6       0.86      0.89      0.87        89\n",
      "           7       0.88      0.89      0.88       146\n",
      "           8       0.66      0.70      0.68       161\n",
      "\n",
      "    accuracy                           0.80      1083\n",
      "   macro avg       0.83      0.72      0.74      1083\n",
      "weighted avg       0.80      0.80      0.80      1083\n",
      "\n"
     ]
    }
   ],
   "source": [
    "y_pred_rf = rf.predict(x_test_imp)\n",
    "print(rf.score(x_train_imp,y_train))\n",
    "print(metrics.accuracy_score(y_test,y_pred_rf))\n",
    "\n",
    "cm = metrics.confusion_matrix(y_test, y_pred_rf)\n",
    "print(cm)\n",
    "\n",
    "results = metrics.classification_report(y_test,y_pred_rf)\n",
    "print(results)"
   ]
  },
  {
   "cell_type": "code",
   "execution_count": 31,
   "metadata": {},
   "outputs": [
    {
     "name": "stdout",
     "output_type": "stream",
     "text": [
      "5\n",
      "6\n",
      "6\n",
      "5\n",
      "6\n",
      "6\n",
      "0\n",
      "2\n",
      "6\n",
      "5\n",
      "1\n",
      "6\n",
      "1\n",
      "5\n",
      "7\n",
      "8\n",
      "2\n",
      "1\n",
      "5\n",
      "2\n",
      "0\n",
      "2\n",
      "8\n",
      "1\n",
      "1\n",
      "6\n",
      "8\n",
      "3\n",
      "0\n",
      "7\n"
     ]
    }
   ],
   "source": [
    "for i in range(500, 530):\n",
    "    print(y[i])"
   ]
  },
  {
   "cell_type": "code",
   "execution_count": 32,
   "metadata": {},
   "outputs": [
    {
     "name": "stdout",
     "output_type": "stream",
     "text": [
      "soft_pvc\n",
      "soft_tiles\n",
      "soft_tiles\n",
      "soft_pvc\n",
      "soft_tiles\n",
      "soft_tiles\n",
      "carpet\n",
      "fine_concrete\n",
      "soft_tiles\n",
      "soft_pvc\n",
      "concrete\n",
      "soft_tiles\n",
      "concrete\n",
      "soft_pvc\n",
      "tiled\n",
      "wood\n",
      "fine_concrete\n",
      "concrete\n",
      "soft_pvc\n",
      "fine_concrete\n",
      "carpet\n",
      "fine_concrete\n",
      "wood\n",
      "concrete\n",
      "concrete\n",
      "soft_tiles\n",
      "wood\n",
      "hard_tiles\n",
      "carpet\n",
      "tiled\n"
     ]
    }
   ],
   "source": [
    "for i in range(500, 530):\n",
    "    print(srf[\"surface\"][i])"
   ]
  },
  {
   "cell_type": "markdown",
   "metadata": {},
   "source": [
    "PART 2 QUESTION 7A\n",
    "\n",
    "This model performs the best out of the models so far, with an accuracy score of about 0.80 and higher precision for all surface types. The accuracy score is significantly higher on the training data than test data, which is likely due to the imbalance in the surface types, with very few data included in the training set for some surfaces, leading to insufficient training and overfitting to the other surface types.\n",
    "\n",
    "PART 2 QUESTION 7B\n",
    "\n",
    "From the confusion matrix, the two most misclassified surfaces are wood and carpet, which are both most commonly misclassified as concrete."
   ]
  },
  {
   "cell_type": "code",
   "execution_count": 33,
   "metadata": {},
   "outputs": [],
   "source": [
    "mvt_new = pd.DataFrame()"
   ]
  },
  {
   "cell_type": "code",
   "execution_count": 34,
   "metadata": {},
   "outputs": [],
   "source": [
    "for col in mvt.columns:\n",
    "    mvt_new[col+'_mean'] = mvt.groupby(['series_id'])[col].mean()\n",
    "    mvt_new[col+'_min'] = mvt.groupby(['series_id'])[col].min()\n",
    "    mvt_new[col+'_max'] = mvt.groupby(['series_id'])[col].max()\n",
    "    mvt_new[col+'_std'] = mvt.groupby(['series_id'])[col].std()"
   ]
  },
  {
   "cell_type": "code",
   "execution_count": 35,
   "metadata": {},
   "outputs": [
    {
     "data": {
      "text/plain": [
       "(3610, 44)"
      ]
     },
     "execution_count": 35,
     "metadata": {},
     "output_type": "execute_result"
    }
   ],
   "source": [
    "mvt_new.shape"
   ]
  },
  {
   "cell_type": "markdown",
   "metadata": {},
   "source": [
    "PART 3 QUESTION 2\n",
    "\n",
    "This new data frame has 3610 observations. "
   ]
  },
  {
   "cell_type": "code",
   "execution_count": 36,
   "metadata": {},
   "outputs": [
    {
     "data": {
      "text/html": [
       "<div>\n",
       "<style scoped>\n",
       "    .dataframe tbody tr th:only-of-type {\n",
       "        vertical-align: middle;\n",
       "    }\n",
       "\n",
       "    .dataframe tbody tr th {\n",
       "        vertical-align: top;\n",
       "    }\n",
       "\n",
       "    .dataframe thead th {\n",
       "        text-align: right;\n",
       "    }\n",
       "</style>\n",
       "<table border=\"1\" class=\"dataframe\">\n",
       "  <thead>\n",
       "    <tr style=\"text-align: right;\">\n",
       "      <th></th>\n",
       "      <th>series_id_mean</th>\n",
       "      <th>series_id_min</th>\n",
       "      <th>series_id_max</th>\n",
       "      <th>series_id_std</th>\n",
       "      <th>measurement_number_mean</th>\n",
       "      <th>measurement_number_min</th>\n",
       "      <th>measurement_number_max</th>\n",
       "      <th>measurement_number_std</th>\n",
       "      <th>angular_velocity_X_mean</th>\n",
       "      <th>angular_velocity_X_min</th>\n",
       "      <th>...</th>\n",
       "      <th>direction_X_max</th>\n",
       "      <th>direction_X_std</th>\n",
       "      <th>direction_Y_mean</th>\n",
       "      <th>direction_Y_min</th>\n",
       "      <th>direction_Y_max</th>\n",
       "      <th>direction_Y_std</th>\n",
       "      <th>direction_Z_mean</th>\n",
       "      <th>direction_Z_min</th>\n",
       "      <th>direction_Z_max</th>\n",
       "      <th>direction_Z_std</th>\n",
       "    </tr>\n",
       "    <tr>\n",
       "      <th>series_id</th>\n",
       "      <th></th>\n",
       "      <th></th>\n",
       "      <th></th>\n",
       "      <th></th>\n",
       "      <th></th>\n",
       "      <th></th>\n",
       "      <th></th>\n",
       "      <th></th>\n",
       "      <th></th>\n",
       "      <th></th>\n",
       "      <th></th>\n",
       "      <th></th>\n",
       "      <th></th>\n",
       "      <th></th>\n",
       "      <th></th>\n",
       "      <th></th>\n",
       "      <th></th>\n",
       "      <th></th>\n",
       "      <th></th>\n",
       "      <th></th>\n",
       "      <th></th>\n",
       "    </tr>\n",
       "  </thead>\n",
       "  <tbody>\n",
       "    <tr>\n",
       "      <th>0</th>\n",
       "      <td>0</td>\n",
       "      <td>0</td>\n",
       "      <td>0</td>\n",
       "      <td>0.0</td>\n",
       "      <td>63.5</td>\n",
       "      <td>0</td>\n",
       "      <td>127</td>\n",
       "      <td>37.094474</td>\n",
       "      <td>-0.002481</td>\n",
       "      <td>-0.16041</td>\n",
       "      <td>...</td>\n",
       "      <td>-2.197350</td>\n",
       "      <td>0.000574</td>\n",
       "      <td>-0.025037</td>\n",
       "      <td>-0.025795</td>\n",
       "      <td>-0.023562</td>\n",
       "      <td>0.000503</td>\n",
       "      <td>1.396035</td>\n",
       "      <td>1.393233</td>\n",
       "      <td>1.397402</td>\n",
       "      <td>0.001221</td>\n",
       "    </tr>\n",
       "    <tr>\n",
       "      <th>1</th>\n",
       "      <td>1</td>\n",
       "      <td>1</td>\n",
       "      <td>1</td>\n",
       "      <td>0.0</td>\n",
       "      <td>63.5</td>\n",
       "      <td>0</td>\n",
       "      <td>127</td>\n",
       "      <td>37.094474</td>\n",
       "      <td>0.004605</td>\n",
       "      <td>-0.25480</td>\n",
       "      <td>...</td>\n",
       "      <td>2.429841</td>\n",
       "      <td>0.001387</td>\n",
       "      <td>-0.010369</td>\n",
       "      <td>-0.012073</td>\n",
       "      <td>-0.009109</td>\n",
       "      <td>0.000822</td>\n",
       "      <td>-0.492731</td>\n",
       "      <td>-0.494641</td>\n",
       "      <td>-0.490164</td>\n",
       "      <td>0.001131</td>\n",
       "    </tr>\n",
       "    <tr>\n",
       "      <th>2</th>\n",
       "      <td>2</td>\n",
       "      <td>2</td>\n",
       "      <td>2</td>\n",
       "      <td>0.0</td>\n",
       "      <td>63.5</td>\n",
       "      <td>0</td>\n",
       "      <td>127</td>\n",
       "      <td>37.094474</td>\n",
       "      <td>0.002646</td>\n",
       "      <td>-0.15271</td>\n",
       "      <td>...</td>\n",
       "      <td>-2.040610</td>\n",
       "      <td>0.000668</td>\n",
       "      <td>-0.012195</td>\n",
       "      <td>-0.012734</td>\n",
       "      <td>-0.011795</td>\n",
       "      <td>0.000173</td>\n",
       "      <td>2.055021</td>\n",
       "      <td>2.049684</td>\n",
       "      <td>2.061288</td>\n",
       "      <td>0.003219</td>\n",
       "    </tr>\n",
       "    <tr>\n",
       "      <th>3</th>\n",
       "      <td>3</td>\n",
       "      <td>3</td>\n",
       "      <td>3</td>\n",
       "      <td>0.0</td>\n",
       "      <td>63.5</td>\n",
       "      <td>0</td>\n",
       "      <td>127</td>\n",
       "      <td>37.094474</td>\n",
       "      <td>0.000624</td>\n",
       "      <td>-0.40152</td>\n",
       "      <td>...</td>\n",
       "      <td>2.356419</td>\n",
       "      <td>0.002101</td>\n",
       "      <td>-0.015107</td>\n",
       "      <td>-0.015698</td>\n",
       "      <td>-0.014645</td>\n",
       "      <td>0.000234</td>\n",
       "      <td>-0.635656</td>\n",
       "      <td>-0.638340</td>\n",
       "      <td>-0.634294</td>\n",
       "      <td>0.000931</td>\n",
       "    </tr>\n",
       "    <tr>\n",
       "      <th>4</th>\n",
       "      <td>4</td>\n",
       "      <td>4</td>\n",
       "      <td>4</td>\n",
       "      <td>0.0</td>\n",
       "      <td>63.5</td>\n",
       "      <td>0</td>\n",
       "      <td>127</td>\n",
       "      <td>37.094474</td>\n",
       "      <td>0.006969</td>\n",
       "      <td>-0.10407</td>\n",
       "      <td>...</td>\n",
       "      <td>2.245355</td>\n",
       "      <td>0.005080</td>\n",
       "      <td>-0.009793</td>\n",
       "      <td>-0.010192</td>\n",
       "      <td>-0.009358</td>\n",
       "      <td>0.000241</td>\n",
       "      <td>-0.894147</td>\n",
       "      <td>-0.915040</td>\n",
       "      <td>-0.867983</td>\n",
       "      <td>0.013836</td>\n",
       "    </tr>\n",
       "  </tbody>\n",
       "</table>\n",
       "<p>5 rows × 44 columns</p>\n",
       "</div>"
      ],
      "text/plain": [
       "           series_id_mean  series_id_min  series_id_max  series_id_std  \\\n",
       "series_id                                                                \n",
       "0                       0              0              0            0.0   \n",
       "1                       1              1              1            0.0   \n",
       "2                       2              2              2            0.0   \n",
       "3                       3              3              3            0.0   \n",
       "4                       4              4              4            0.0   \n",
       "\n",
       "           measurement_number_mean  measurement_number_min  \\\n",
       "series_id                                                    \n",
       "0                             63.5                       0   \n",
       "1                             63.5                       0   \n",
       "2                             63.5                       0   \n",
       "3                             63.5                       0   \n",
       "4                             63.5                       0   \n",
       "\n",
       "           measurement_number_max  measurement_number_std  \\\n",
       "series_id                                                   \n",
       "0                             127               37.094474   \n",
       "1                             127               37.094474   \n",
       "2                             127               37.094474   \n",
       "3                             127               37.094474   \n",
       "4                             127               37.094474   \n",
       "\n",
       "           angular_velocity_X_mean  angular_velocity_X_min  ...  \\\n",
       "series_id                                                   ...   \n",
       "0                        -0.002481                -0.16041  ...   \n",
       "1                         0.004605                -0.25480  ...   \n",
       "2                         0.002646                -0.15271  ...   \n",
       "3                         0.000624                -0.40152  ...   \n",
       "4                         0.006969                -0.10407  ...   \n",
       "\n",
       "           direction_X_max  direction_X_std  direction_Y_mean  \\\n",
       "series_id                                                       \n",
       "0                -2.197350         0.000574         -0.025037   \n",
       "1                 2.429841         0.001387         -0.010369   \n",
       "2                -2.040610         0.000668         -0.012195   \n",
       "3                 2.356419         0.002101         -0.015107   \n",
       "4                 2.245355         0.005080         -0.009793   \n",
       "\n",
       "           direction_Y_min  direction_Y_max  direction_Y_std  \\\n",
       "series_id                                                      \n",
       "0                -0.025795        -0.023562         0.000503   \n",
       "1                -0.012073        -0.009109         0.000822   \n",
       "2                -0.012734        -0.011795         0.000173   \n",
       "3                -0.015698        -0.014645         0.000234   \n",
       "4                -0.010192        -0.009358         0.000241   \n",
       "\n",
       "           direction_Z_mean  direction_Z_min  direction_Z_max  direction_Z_std  \n",
       "series_id                                                                       \n",
       "0                  1.396035         1.393233         1.397402         0.001221  \n",
       "1                 -0.492731        -0.494641        -0.490164         0.001131  \n",
       "2                  2.055021         2.049684         2.061288         0.003219  \n",
       "3                 -0.635656        -0.638340        -0.634294         0.000931  \n",
       "4                 -0.894147        -0.915040        -0.867983         0.013836  \n",
       "\n",
       "[5 rows x 44 columns]"
      ]
     },
     "execution_count": 36,
     "metadata": {},
     "output_type": "execute_result"
    }
   ],
   "source": [
    "mvt_new.head()"
   ]
  },
  {
   "cell_type": "code",
   "execution_count": 37,
   "metadata": {},
   "outputs": [],
   "source": [
    "x_new = mvt_new.drop([\"series_id_mean\",\"series_id_min\",\"series_id_max\",\"series_id_std\",\"measurement_number_mean\",\"measurement_number_min\",\"measurement_number_max\",\"measurement_number_std\"],axis=1)"
   ]
  },
  {
   "cell_type": "markdown",
   "metadata": {},
   "source": [
    "PART 3 QUESTION 3A\n",
    "\n",
    "The series ID and measurement number features need to be dropped because they should not affect the surface type and the mean, minimum, maximum, and standard deviation are nonsensical."
   ]
  },
  {
   "cell_type": "code",
   "execution_count": 38,
   "metadata": {},
   "outputs": [],
   "source": [
    "y_new = y\n",
    "x_train_new,x_test_new,y_train_new,y_test_new = train_test_split(x_new,y_new,test_size = 0.3)"
   ]
  },
  {
   "cell_type": "code",
   "execution_count": 39,
   "metadata": {},
   "outputs": [],
   "source": [
    "x_train_scaled_new = scaler.fit_transform(x_train_new)\n",
    "x_test_scaled_new = scaler.transform(x_test_new)"
   ]
  },
  {
   "cell_type": "code",
   "execution_count": 40,
   "metadata": {},
   "outputs": [
    {
     "name": "stdout",
     "output_type": "stream",
     "text": [
      "0.4934705184012663\n",
      "0.5152354570637119\n",
      "[[ 11  10   1   0   0   2   1   0   5]\n",
      " [  7 132  15   0  21  13   2  36  22]\n",
      " [  2   3  20   0   0  11   0   5   3]\n",
      " [  0   0   0   0   0   0   0   0   1]\n",
      " [  0  14   1   0  35   1   0  13   4]\n",
      " [  9  18  19   3  19 159  13  16  40]\n",
      " [ 11   6   5   0   2   8  73   1   4]\n",
      " [  0  35   8   0  12   3   0  58  16]\n",
      " [ 14   9  23   0   5  18  10   5  70]]\n",
      "              precision    recall  f1-score   support\n",
      "\n",
      "           0       0.20      0.37      0.26        30\n",
      "           1       0.58      0.53      0.56       248\n",
      "           2       0.22      0.45      0.29        44\n",
      "           3       0.00      0.00      0.00         1\n",
      "           4       0.37      0.51      0.43        68\n",
      "           5       0.74      0.54      0.62       296\n",
      "           6       0.74      0.66      0.70       110\n",
      "           7       0.43      0.44      0.44       132\n",
      "           8       0.42      0.45      0.44       154\n",
      "\n",
      "    accuracy                           0.52      1083\n",
      "   macro avg       0.41      0.44      0.42      1083\n",
      "weighted avg       0.56      0.52      0.53      1083\n",
      "\n"
     ]
    }
   ],
   "source": [
    "lr.fit(x_train_scaled_new, y_train_new)\n",
    "\n",
    "print(lr.score(x_train_scaled_new,y_train_new))\n",
    "\n",
    "y_pred_lr_new = lr.predict(x_test_scaled_new)\n",
    "print(metrics.accuracy_score(y_test_new,y_pred_lr_new))\n",
    "print(metrics.confusion_matrix(y_pred_lr_new,y_test_new))\n",
    "print(metrics.classification_report(y_pred_lr_new,y_test_new))"
   ]
  },
  {
   "cell_type": "code",
   "execution_count": 41,
   "metadata": {},
   "outputs": [
    {
     "name": "stdout",
     "output_type": "stream",
     "text": [
      "0.7740532859213175\n",
      "{'metric': 'l1', 'n_neighbors': 5}\n",
      "KNeighborsClassifier(metric='l1')\n"
     ]
    }
   ],
   "source": [
    "grid_params = {\n",
    "    \"n_neighbors\":[5,6,7,8,9,10],\n",
    "    \"metric\":['l1','l2']\n",
    "}\n",
    "\n",
    "gs = GridSearchCV(\n",
    "    KNeighborsClassifier(),\n",
    "    grid_params,\n",
    "    cv = 3\n",
    ")\n",
    "\n",
    "gs_results_new = gs.fit(x_train_scaled_new,y_train_new)\n",
    "print(gs_results_new.best_score_)\n",
    "print(gs_results_new.best_params_)\n",
    "print(gs_results_new.best_estimator_)"
   ]
  },
  {
   "cell_type": "code",
   "execution_count": 42,
   "metadata": {},
   "outputs": [
    {
     "name": "stdout",
     "output_type": "stream",
     "text": [
      "0.8864265927977839\n",
      "0.817174515235457\n",
      "[[ 34   7   0   0   1   1   1   1   2]\n",
      " [ 10 181   7   0   9   7   3  11  16]\n",
      " [  3   5  73   0   2   3   0   2   4]\n",
      " [  0   0   0   2   0   0   1   0   0]\n",
      " [  2   8   1   0  78   1   0   1   3]\n",
      " [  2  10   3   0   0 192   1   2  11]\n",
      " [  1   1   0   0   0   1  92   1   2]\n",
      " [  0   9   2   0   2   2   0 114   8]\n",
      " [  2   6   6   1   2   8   1   2 119]]\n",
      "              precision    recall  f1-score   support\n",
      "\n",
      "           0       0.63      0.72      0.67        47\n",
      "           1       0.80      0.74      0.77       244\n",
      "           2       0.79      0.79      0.79        92\n",
      "           3       0.67      0.67      0.67         3\n",
      "           4       0.83      0.83      0.83        94\n",
      "           5       0.89      0.87      0.88       221\n",
      "           6       0.93      0.94      0.93        98\n",
      "           7       0.85      0.83      0.84       137\n",
      "           8       0.72      0.81      0.76       147\n",
      "\n",
      "    accuracy                           0.82      1083\n",
      "   macro avg       0.79      0.80      0.79      1083\n",
      "weighted avg       0.82      0.82      0.82      1083\n",
      "\n"
     ]
    }
   ],
   "source": [
    "knn_new = KNeighborsClassifier(n_neighbors = 5,metric='l1')\n",
    "knn_new.fit(x_train_scaled_new,y_train_new)\n",
    "\n",
    "print(knn_new.score(x_train_scaled_new,y_train_new))\n",
    "\n",
    "y_pred_knn_new = knn_new.predict(x_test_scaled_new)\n",
    "print(metrics.accuracy_score(y_test_new,y_pred_knn_new))\n",
    "print(metrics.confusion_matrix(y_pred_knn_new,y_test_new))\n",
    "print(metrics.classification_report(y_pred_knn_new,y_test_new))"
   ]
  },
  {
   "cell_type": "code",
   "execution_count": 43,
   "metadata": {},
   "outputs": [
    {
     "name": "stdout",
     "output_type": "stream",
     "text": [
      "1.0\n",
      "0.8855032317636196\n",
      "[[ 40   4   0   0   0   1   2   0   7]\n",
      " [  2 205   3   0   0   6   4   3   4]\n",
      " [  0   6  74   0   0   4   1   2   5]\n",
      " [  0   0   0   2   0   0   0   0   1]\n",
      " [  0   3   2   0  81   0   1   2   5]\n",
      " [  0   5   0   0   1 196   4   2   7]\n",
      " [  0   2   0   0   0   5  90   0   2]\n",
      " [  2   3   3   0   0   0   0 124   2]\n",
      " [  0   3   1   0   0   9   1   4 147]]\n",
      "              precision    recall  f1-score   support\n",
      "\n",
      "           0       0.91      0.74      0.82        54\n",
      "           1       0.89      0.90      0.90       227\n",
      "           2       0.89      0.80      0.85        92\n",
      "           3       1.00      0.67      0.80         3\n",
      "           4       0.99      0.86      0.92        94\n",
      "           5       0.89      0.91      0.90       215\n",
      "           6       0.87      0.91      0.89        99\n",
      "           7       0.91      0.93      0.92       134\n",
      "           8       0.82      0.89      0.85       165\n",
      "\n",
      "    accuracy                           0.89      1083\n",
      "   macro avg       0.91      0.85      0.87      1083\n",
      "weighted avg       0.89      0.89      0.89      1083\n",
      "\n"
     ]
    }
   ],
   "source": [
    "imputer_new = KNNImputer()\n",
    "imputer_new.fit(x_train_scaled_new)\n",
    "\n",
    "x_train_imp_new = pd.DataFrame(imputer_new.transform(x_train_scaled_new), columns = x_train_new.columns)\n",
    "x_test_imp_new = pd.DataFrame(imputer_new.transform(x_test_scaled_new), columns = x_test_new.columns)\n",
    "\n",
    "rf.fit(x_train_imp_new, y_train_new)\n",
    "\n",
    "y_pred_rf_new = rf.predict(x_test_imp_new)\n",
    "print(rf.score(x_train_imp_new,y_train_new))\n",
    "print(metrics.accuracy_score(y_test_new,y_pred_rf_new))\n",
    "\n",
    "cm = metrics.confusion_matrix(y_test_new, y_pred_rf_new)\n",
    "print(cm)\n",
    "\n",
    "results = metrics.classification_report(y_test_new,y_pred_rf_new)\n",
    "print(results)"
   ]
  },
  {
   "cell_type": "markdown",
   "metadata": {},
   "source": [
    "PART 3 QUESTION 3F\n",
    "\n",
    "Between the new models, the random forest classifier performs better than the K nearest neighbors model, which performs better than the logistic regression model. Between the new and old models, each new model performs better than its corresponding old model. However, the new logistic regression model does not perform as well as the old random forest classifier. This shows that this feature engineering improved the performance of these models by simplifying the data while preserving accuracy, speeding up the training process."
   ]
  },
  {
   "cell_type": "code",
   "execution_count": 44,
   "metadata": {},
   "outputs": [
    {
     "data": {
      "text/plain": [
       "<AxesSubplot:ylabel='count'>"
      ]
     },
     "execution_count": 44,
     "metadata": {},
     "output_type": "execute_result"
    },
    {
     "data": {
      "image/png": "[encoded data removed]",
      "text/plain": [
       "<Figure size 432x288 with 1 Axes>"
      ]
     },
     "metadata": {
      "needs_background": "light"
     },
     "output_type": "display_data"
    }
   ],
   "source": [
    "from imblearn.over_sampling import SMOTE\n",
    "\n",
    "sm = SMOTE()\n",
    "\n",
    "x_bal, y_bal = sm.fit_resample(x_new,y_new)\n",
    "\n",
    "sns.countplot(x=y_bal)"
   ]
  },
  {
   "cell_type": "code",
   "execution_count": 45,
   "metadata": {},
   "outputs": [
    {
     "name": "stdout",
     "output_type": "stream",
     "text": [
      "1.0\n",
      "0.8976697061803445\n",
      "[[215   0   0   0   0   0   0   0   0]\n",
      " [  1 181   2   0   2   9   2   9  16]\n",
      " [  1   1 206   0   0   0   6   0   6]\n",
      " [  0   0   0 212   0   0   0   0   0]\n",
      " [  0   7   2   1 191   7   3   0   7]\n",
      " [  6   9   4   1   6 190   2  11   7]\n",
      " [  0   6   1   0   0   0 202   3   5]\n",
      " [  5   4   0   0   0   3   1 191   3]\n",
      " [ 11   7   7   2   7   4   1   4 184]]\n",
      "              precision    recall  f1-score   support\n",
      "\n",
      "           0       0.90      1.00      0.95       215\n",
      "           1       0.84      0.82      0.83       222\n",
      "           2       0.93      0.94      0.93       220\n",
      "           3       0.98      1.00      0.99       212\n",
      "           4       0.93      0.88      0.90       218\n",
      "           5       0.89      0.81      0.85       236\n",
      "           6       0.93      0.93      0.93       217\n",
      "           7       0.88      0.92      0.90       207\n",
      "           8       0.81      0.81      0.81       227\n",
      "\n",
      "    accuracy                           0.90      1974\n",
      "   macro avg       0.90      0.90      0.90      1974\n",
      "weighted avg       0.90      0.90      0.90      1974\n",
      "\n"
     ]
    }
   ],
   "source": [
    "df = pd.DataFrame()\n",
    "  \n",
    "x_bal_old, y_bal_old = sm.fit_resample(x,y)\n",
    "\n",
    "x_train_bal_old, x_test_bal_old, y_train_bal_old, y_test_bal_old = train_test_split(x_bal_old,y_bal_old,test_size = 0.3)\n",
    "\n",
    "x_train_scaled_bal_old = scaler.fit_transform(x_train_bal_old)\n",
    "x_test_scaled_bal_old = scaler.transform(x_test_bal_old)\n",
    "\n",
    "imputer_bal_old = KNNImputer()\n",
    "imputer_bal_old.fit(x_train_scaled_bal_old)\n",
    "\n",
    "x_train_imp_bal_old = pd.DataFrame(imputer_bal_old.transform(x_train_scaled_bal_old), columns = x_train_bal_old.columns)\n",
    "x_test_imp_bal_old = pd.DataFrame(imputer_bal_old.transform(x_test_scaled_bal_old), columns = x_test_bal_old.columns)\n",
    "\n",
    "rf.fit(x_train_imp_bal_old, y_train_bal_old)\n",
    "\n",
    "y_pred_rf_bal_old = rf.predict(x_test_imp_bal_old)\n",
    "print(rf.score(x_train_imp_bal_old,y_train_bal_old))\n",
    "print(metrics.accuracy_score(y_test_bal_old,y_pred_rf_bal_old))\n",
    "\n",
    "cm = metrics.confusion_matrix(y_test_bal_old, y_pred_rf_bal_old)\n",
    "print(cm)\n",
    "\n",
    "results = metrics.classification_report(y_test_bal_old,y_pred_rf_bal_old)\n",
    "print(results)"
   ]
  },
  {
   "cell_type": "code",
   "execution_count": 46,
   "metadata": {},
   "outputs": [
    {
     "name": "stdout",
     "output_type": "stream",
     "text": [
      "0       fine_concrete\n",
      "1            concrete\n",
      "2            concrete\n",
      "3            concrete\n",
      "4          soft_tiles\n",
      "            ...      \n",
      "3605            tiled\n",
      "3606         concrete\n",
      "3607         soft_pvc\n",
      "3608         soft_pvc\n",
      "3609         concrete\n",
      "Name: surface, Length: 3610, dtype: object\n"
     ]
    }
   ],
   "source": [
    "print(srf[\"surface\"])"
   ]
  },
  {
   "cell_type": "code",
   "execution_count": 47,
   "metadata": {},
   "outputs": [
    {
     "name": "stdout",
     "output_type": "stream",
     "text": [
      "1.0\n",
      "0.9376899696048632\n",
      "[[231   1   0   0   1   0   0   0   2]\n",
      " [  3 194   5   0   4   6   2   9   5]\n",
      " [  0   1 201   0   2   4   1   1   5]\n",
      " [  0   0   0 219   0   0   0   0   0]\n",
      " [  0   1   0   0 198   0   0   1   0]\n",
      " [  3   6   3   0   3 189   6   1   7]\n",
      " [  0   0   0   0   0   2 202   0   5]\n",
      " [  2   5   1   0   0   0   3 227   3]\n",
      " [  1   4   0   1   1   8   0   4 190]]\n",
      "              precision    recall  f1-score   support\n",
      "\n",
      "           0       0.96      0.98      0.97       235\n",
      "           1       0.92      0.85      0.88       228\n",
      "           2       0.96      0.93      0.95       215\n",
      "           3       1.00      1.00      1.00       219\n",
      "           4       0.95      0.99      0.97       200\n",
      "           5       0.90      0.87      0.89       218\n",
      "           6       0.94      0.97      0.96       209\n",
      "           7       0.93      0.94      0.94       241\n",
      "           8       0.88      0.91      0.89       209\n",
      "\n",
      "    accuracy                           0.94      1974\n",
      "   macro avg       0.94      0.94      0.94      1974\n",
      "weighted avg       0.94      0.94      0.94      1974\n",
      "\n"
     ]
    }
   ],
   "source": [
    "x_train_bal, x_test_bal, y_train_bal, y_test_bal = train_test_split(x_bal,y_bal,test_size = 0.3)\n",
    "\n",
    "x_train_scaled_bal = scaler.fit_transform(x_train_bal)\n",
    "x_test_scaled_bal = scaler.transform(x_test_bal)\n",
    "\n",
    "imputer_bal = KNNImputer()\n",
    "imputer_bal.fit(x_train_scaled_bal)\n",
    "\n",
    "x_train_imp_bal = pd.DataFrame(imputer_bal.transform(x_train_scaled_bal), columns = x_train_bal.columns)\n",
    "x_test_imp_bal = pd.DataFrame(imputer_bal.transform(x_test_scaled_bal), columns = x_test_bal.columns)\n",
    "\n",
    "rf.fit(x_train_imp_bal, y_train_bal)\n",
    "\n",
    "y_pred_rf_bal = rf.predict(x_test_imp_bal)\n",
    "print(rf.score(x_train_imp_bal,y_train_bal))\n",
    "print(metrics.accuracy_score(y_test_bal,y_pred_rf_bal))\n",
    "\n",
    "cm = metrics.confusion_matrix(y_test_bal, y_pred_rf_bal)\n",
    "print(cm)\n",
    "\n",
    "results = metrics.classification_report(y_test_bal,y_pred_rf_bal)\n",
    "print(results)"
   ]
  },
  {
   "cell_type": "code",
   "execution_count": 54,
   "metadata": {},
   "outputs": [
    {
     "name": "stdout",
     "output_type": "stream",
     "text": [
      "[0.40267242 0.53863906 0.62979183 0.71436039 0.77402732 0.82287867\n",
      " 0.85127583 0.87915115 0.90515712 0.92977006 0.94650067 0.96001408\n",
      " 0.97013876 0.97717327 0.98269922 0.98608644 0.98882297 0.99102383\n",
      " 0.99283795 0.99455329 0.99570089]\n",
      "1.0\n",
      "0.8890577507598785\n",
      "[[227   6   1   0   0   0   0   0   1]\n",
      " [  4 175   7   0   8   9   0  17   8]\n",
      " [  3   1 194   0   1   3   0   3  10]\n",
      " [  0   0   0 219   0   0   0   0   0]\n",
      " [  0   3   4   0 188   3   0   1   1]\n",
      " [  2   6   8   3   3 179   2   6   9]\n",
      " [  2   0   0   1   0   3 199   0   4]\n",
      " [  2  20   1   0   4   3   3 205   3]\n",
      " [  0  15   2   2   3  10   0   8 169]]\n",
      "              precision    recall  f1-score   support\n",
      "\n",
      "           0       0.96      0.98      0.97       235\n",
      "           1       0.92      0.85      0.88       228\n",
      "           2       0.96      0.93      0.95       215\n",
      "           3       1.00      1.00      1.00       219\n",
      "           4       0.95      0.99      0.97       200\n",
      "           5       0.90      0.87      0.89       218\n",
      "           6       0.94      0.97      0.96       209\n",
      "           7       0.93      0.94      0.94       241\n",
      "           8       0.88      0.91      0.89       209\n",
      "\n",
      "    accuracy                           0.94      1974\n",
      "   macro avg       0.94      0.94      0.94      1974\n",
      "weighted avg       0.94      0.94      0.94      1974\n",
      "\n"
     ]
    }
   ],
   "source": [
    "from sklearn.decomposition import PCA\n",
    "\n",
    "pca = PCA(n_components = 21).fit(x_train_imp_bal)\n",
    "print(pca.explained_variance_ratio_.cumsum())\n",
    "\n",
    "x_train_pca = pca.transform(x_train_imp_bal) \n",
    "x_test_pca = pca.transform(x_test_imp_bal)\n",
    "\n",
    "rf.fit(x_train_pca, y_train_bal)\n",
    "\n",
    "y_pred_rf_pca = rf.predict(x_test_pca)\n",
    "print(rf.score(x_train_pca,y_train_bal))\n",
    "print(metrics.accuracy_score(y_test_bal,y_pred_rf_pca))\n",
    "\n",
    "cm = metrics.confusion_matrix(y_test_bal, y_pred_rf_pca)\n",
    "print(cm)\n",
    "\n",
    "results = metrics.classification_report(y_test_bal,y_pred_rf_bal)\n",
    "print(results)"
   ]
  },
  {
   "cell_type": "code",
   "execution_count": 55,
   "metadata": {},
   "outputs": [
    {
     "name": "stdout",
     "output_type": "stream",
     "text": [
      "1.0\n",
      "0.9463019250253293\n",
      "[[220   0   0   0   1   0   0   0   2]\n",
      " [  2 188   2   0   4   3   5   4   5]\n",
      " [  1   3 203   0   3   0   0   0   7]\n",
      " [  0   0   0 219   0   0   0   0   0]\n",
      " [  1   0   3   0 204   0   0   2   1]\n",
      " [  0   4   1   0   3 212   3   1   6]\n",
      " [  0   0   0   1   0   0 238   1   0]\n",
      " [  1   4   0   0   0   3   3 191   0]\n",
      " [  4   2   6   1   0   6   0   7 193]]\n",
      "              precision    recall  f1-score   support\n",
      "\n",
      "           0       0.96      0.99      0.97       223\n",
      "           1       0.94      0.88      0.91       213\n",
      "           2       0.94      0.94      0.94       217\n",
      "           3       0.99      1.00      1.00       219\n",
      "           4       0.95      0.97      0.96       211\n",
      "           5       0.95      0.92      0.93       230\n",
      "           6       0.96      0.99      0.97       240\n",
      "           7       0.93      0.95      0.94       202\n",
      "           8       0.90      0.88      0.89       219\n",
      "\n",
      "    accuracy                           0.95      1974\n",
      "   macro avg       0.95      0.95      0.95      1974\n",
      "weighted avg       0.95      0.95      0.95      1974\n",
      "\n"
     ]
    }
   ],
   "source": [
    "###############################################################################\n",
    "# BEST MODEL:\n",
    "\n",
    "for col in mvt.columns:\n",
    "    mvt_new[col+'_mean'] = mvt.groupby(['series_id'])[col].mean()\n",
    "    mvt_new[col+'_min'] = mvt.groupby(['series_id'])[col].min()\n",
    "    mvt_new[col+'_max'] = mvt.groupby(['series_id'])[col].max()\n",
    "    mvt_new[col+'_std'] = mvt.groupby(['series_id'])[col].std()\n",
    "    \n",
    "x_new = mvt_new.drop([\"series_id_mean\",\"series_id_min\",\"series_id_max\",\"series_id_std\",\"measurement_number_mean\",\"measurement_number_min\",\"measurement_number_max\",\"measurement_number_std\"],axis=1)\n",
    "y_new = encoder.fit_transform(srf[\"surface\"])\n",
    "\n",
    "x_bal, y_bal = sm.fit_resample(x_new,y_new)\n",
    "\n",
    "x_train_bal, x_test_bal, y_train_bal, y_test_bal = train_test_split(x_bal,y_bal,test_size = 0.3)\n",
    "\n",
    "x_train_scaled_bal = scaler.fit_transform(x_train_bal)\n",
    "x_test_scaled_bal = scaler.transform(x_test_bal)\n",
    "\n",
    "imputer_bal = KNNImputer()\n",
    "imputer_bal.fit(x_train_scaled_bal)\n",
    "\n",
    "x_train_imp_bal = pd.DataFrame(imputer_bal.transform(x_train_scaled_bal), columns = x_train_bal.columns)\n",
    "x_test_imp_bal = pd.DataFrame(imputer_bal.transform(x_test_scaled_bal), columns = x_test_bal.columns)\n",
    "\n",
    "rf = RandomForestClassifier(n_estimators = 1000)\n",
    "rf.fit(x_train_imp_bal, y_train_bal)\n",
    "\n",
    "y_pred_rf_bal = rf.predict(x_test_imp_bal)\n",
    "print(rf.score(x_train_imp_bal,y_train_bal))\n",
    "print(metrics.accuracy_score(y_test_bal,y_pred_rf_bal))\n",
    "\n",
    "cm = metrics.confusion_matrix(y_test_bal, y_pred_rf_bal)\n",
    "print(cm)\n",
    "\n",
    "results = metrics.classification_report(y_test_bal,y_pred_rf_bal)\n",
    "print(results)"
   ]
  },
  {
   "cell_type": "markdown",
   "metadata": {},
   "source": [
    "PART 4 QUESTION 4A\n",
    "\n",
    "I chose the random forest classifier, using 1000 estimators as a hyperparameter, with SMOTE and KNN imputation on the engineered features (i.e. the mean, minimum, maximum, and standard deviation) of the movement data. I used SMOTE and KNN imputer to add synthetic data to make up for the imbalanced amount of data for certain surfaces like hard tiles. I used the random forest classifier because it performed better than the logistic regression and KNN classifier models. \n",
    "\n",
    "Regarding the performance, this model has a perfect score on the training data and an accuracy score of about 0.95 on the training data. The model has above 0.85 precision and recall for all surfaces but performs worst on concrete and wood. "
   ]
  },
  {
   "cell_type": "code",
   "execution_count": null,
   "metadata": {},
   "outputs": [],
   "source": []
  }
 ],
 "metadata": {
  "kernelspec": {
   "display_name": "Python 3",
   "language": "python",
   "name": "python3"
  },
  "language_info": {
   "codemirror_mode": {
    "name": "ipython",
    "version": 3
   },
   "file_extension": ".py",
   "mimetype": "text/x-python",
   "name": "python",
   "nbconvert_exporter": "python",
   "pygments_lexer": "ipython3",
   "version": "3.7.10"
  }
 },
 "nbformat": 4,
 "nbformat_minor": 4
}
