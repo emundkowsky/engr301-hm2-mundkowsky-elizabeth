{
 "cells": [
  {
   "cell_type": "code",
   "execution_count": 3,
   "metadata": {},
   "outputs": [],
   "source": [
    "import numpy as np\n",
    "import pandas as pd\n",
    "import matplotlib.pyplot as plt\n",
    "import seaborn as sb"
   ]
  },
  {
   "cell_type": "code",
   "execution_count": 4,
   "metadata": {},
   "outputs": [],
   "source": [
    "df = pd.read_csv(\"lab1_data.csv\")"
   ]
  },
  {
   "cell_type": "code",
   "execution_count": 9,
   "metadata": {},
   "outputs": [
    {
     "data": {
      "text/html": [
       "<div>\n",
       "<style scoped>\n",
       "    .dataframe tbody tr th:only-of-type {\n",
       "        vertical-align: middle;\n",
       "    }\n",
       "\n",
       "    .dataframe tbody tr th {\n",
       "        vertical-align: top;\n",
       "    }\n",
       "\n",
       "    .dataframe thead th {\n",
       "        text-align: right;\n",
       "    }\n",
       "</style>\n",
       "<table border=\"1\" class=\"dataframe\">\n",
       "  <thead>\n",
       "    <tr style=\"text-align: right;\">\n",
       "      <th></th>\n",
       "      <th>Observation Number</th>\n",
       "      <th>Date/Time</th>\n",
       "      <th>LV ActivePower (kW)</th>\n",
       "      <th>Wind Speed (m/s)</th>\n",
       "      <th>Theoretical_Power_Curve (KWh)</th>\n",
       "      <th>Wind Direction (°)</th>\n",
       "    </tr>\n",
       "  </thead>\n",
       "  <tbody>\n",
       "    <tr>\n",
       "      <th>50525</th>\n",
       "      <td>50526</td>\n",
       "      <td>31 12 2018 23:10</td>\n",
       "      <td>2963.980957</td>\n",
       "      <td>11.404030</td>\n",
       "      <td>3397.190793</td>\n",
       "      <td>80.502724</td>\n",
       "    </tr>\n",
       "    <tr>\n",
       "      <th>50526</th>\n",
       "      <td>50527</td>\n",
       "      <td>31 12 2018 23:20</td>\n",
       "      <td>1684.353027</td>\n",
       "      <td>7.332648</td>\n",
       "      <td>1173.055771</td>\n",
       "      <td>84.062599</td>\n",
       "    </tr>\n",
       "    <tr>\n",
       "      <th>50527</th>\n",
       "      <td>50528</td>\n",
       "      <td>31 12 2018 23:30</td>\n",
       "      <td>2201.106934</td>\n",
       "      <td>8.435358</td>\n",
       "      <td>1788.284755</td>\n",
       "      <td>84.742500</td>\n",
       "    </tr>\n",
       "    <tr>\n",
       "      <th>50528</th>\n",
       "      <td>50529</td>\n",
       "      <td>31 12 2018 23:40</td>\n",
       "      <td>2515.694092</td>\n",
       "      <td>9.421366</td>\n",
       "      <td>2418.382503</td>\n",
       "      <td>84.297913</td>\n",
       "    </tr>\n",
       "    <tr>\n",
       "      <th>50529</th>\n",
       "      <td>50530</td>\n",
       "      <td>31 12 2018 23:50</td>\n",
       "      <td>2820.466064</td>\n",
       "      <td>9.979332</td>\n",
       "      <td>2779.184096</td>\n",
       "      <td>82.274620</td>\n",
       "    </tr>\n",
       "  </tbody>\n",
       "</table>\n",
       "</div>"
      ],
      "text/plain": [
       "       Observation Number         Date/Time  LV ActivePower (kW)  \\\n",
       "50525               50526  31 12 2018 23:10          2963.980957   \n",
       "50526               50527  31 12 2018 23:20          1684.353027   \n",
       "50527               50528  31 12 2018 23:30          2201.106934   \n",
       "50528               50529  31 12 2018 23:40          2515.694092   \n",
       "50529               50530  31 12 2018 23:50          2820.466064   \n",
       "\n",
       "       Wind Speed (m/s)  Theoretical_Power_Curve (KWh)  Wind Direction (°)  \n",
       "50525         11.404030                    3397.190793           80.502724  \n",
       "50526          7.332648                    1173.055771           84.062599  \n",
       "50527          8.435358                    1788.284755           84.742500  \n",
       "50528          9.421366                    2418.382503           84.297913  \n",
       "50529          9.979332                    2779.184096           82.274620  "
      ]
     },
     "execution_count": 9,
     "metadata": {},
     "output_type": "execute_result"
    }
   ],
   "source": [
    "# Finding number of measurements in data set\n",
    "df.tail()"
   ]
  },
  {
   "cell_type": "code",
   "execution_count": 10,
   "metadata": {},
   "outputs": [
    {
     "data": {
      "text/plain": [
       "151590"
      ]
     },
     "execution_count": 10,
     "metadata": {},
     "output_type": "execute_result"
    }
   ],
   "source": [
    "50530*3"
   ]
  },
  {
   "cell_type": "markdown",
   "metadata": {},
   "source": [
    "PART 1 DISCUSSION QUESTION 2\n",
    "\n",
    "There are 50530 observations and three measurements per observation, active power, wind speed, and wind direction, so there are 50530*3=151590 measurements in total. "
   ]
  },
  {
   "cell_type": "code",
   "execution_count": 11,
   "metadata": {},
   "outputs": [
    {
     "data": {
      "text/plain": [
       "count    50530.000000\n",
       "mean      1307.684332\n",
       "std       1312.459242\n",
       "min         -2.471405\n",
       "25%         50.677890\n",
       "50%        825.838074\n",
       "75%       2482.507568\n",
       "max       3618.732910\n",
       "Name: LV ActivePower (kW), dtype: float64"
      ]
     },
     "execution_count": 11,
     "metadata": {},
     "output_type": "execute_result"
    }
   ],
   "source": [
    "df['LV ActivePower (kW)'].describe()"
   ]
  },
  {
   "cell_type": "code",
   "execution_count": 18,
   "metadata": {},
   "outputs": [
    {
     "name": "stdout",
     "output_type": "stream",
     "text": [
      "Significant difference\n"
     ]
    }
   ],
   "source": [
    "if (abs(df['LV ActivePower (kW)'].median()-df['LV ActivePower (kW)'].mean())/(df['LV ActivePower (kW)'].median()+df['LV ActivePower (kW)'].mean())*2 <= 0.1):\n",
    "    print(\"Insignificant difference\")\n",
    "else:\n",
    "    print(\"Significant difference\")"
   ]
  },
  {
   "cell_type": "code",
   "execution_count": 29,
   "metadata": {},
   "outputs": [
    {
     "data": {
      "text/plain": [
       "Text(0.5, 0, 'LV ActivePower (kW)')"
      ]
     },
     "execution_count": 29,
     "metadata": {},
     "output_type": "execute_result"
    },
    {
     "data": {
      "image/png": "[encoded data removed]",
      "text/plain": [
       "<Figure size 432x288 with 1 Axes>"
      ]
     },
     "metadata": {
      "needs_background": "light"
     },
     "output_type": "display_data"
    }
   ],
   "source": [
    "actPow = df['LV ActivePower (kW)'].plot.hist(bins = 20)\n",
    "actPow.set_xlabel(\"LV ActivePower (kW)\")"
   ]
  },
  {
   "cell_type": "code",
   "execution_count": 12,
   "metadata": {},
   "outputs": [
    {
     "data": {
      "text/plain": [
       "count    50530.000000\n",
       "mean         7.557952\n",
       "std          4.227166\n",
       "min          0.000000\n",
       "25%          4.201395\n",
       "50%          7.104594\n",
       "75%         10.300020\n",
       "max         25.206011\n",
       "Name: Wind Speed (m/s), dtype: float64"
      ]
     },
     "execution_count": 12,
     "metadata": {},
     "output_type": "execute_result"
    }
   ],
   "source": [
    "df['Wind Speed (m/s)'].describe()"
   ]
  },
  {
   "cell_type": "code",
   "execution_count": 21,
   "metadata": {},
   "outputs": [
    {
     "name": "stdout",
     "output_type": "stream",
     "text": [
      "Insignificant difference\n"
     ]
    }
   ],
   "source": [
    "if (abs(df['Wind Speed (m/s)'].median()-df['Wind Speed (m/s)'].mean())/(df['Wind Speed (m/s)'].median()+df['Wind Speed (m/s)'].mean())*2 <= 0.1):\n",
    "    print(\"Insignificant difference\")\n",
    "else:\n",
    "    print(\"Significant difference\")"
   ]
  },
  {
   "cell_type": "code",
   "execution_count": 30,
   "metadata": {},
   "outputs": [
    {
     "data": {
      "text/plain": [
       "Text(0.5, 0, 'Wind Speed (m/s)')"
      ]
     },
     "execution_count": 30,
     "metadata": {},
     "output_type": "execute_result"
    },
    {
     "data": {
      "image/png": "[encoded data removed]",
      "text/plain": [
       "<Figure size 432x288 with 1 Axes>"
      ]
     },
     "metadata": {
      "needs_background": "light"
     },
     "output_type": "display_data"
    }
   ],
   "source": [
    "windSpd = df['Wind Speed (m/s)'].plot.hist(bins = 20)\n",
    "windSpd.set_xlabel(\"Wind Speed (m/s)\")"
   ]
  },
  {
   "cell_type": "code",
   "execution_count": 13,
   "metadata": {},
   "outputs": [
    {
     "data": {
      "text/plain": [
       "count    50530.000000\n",
       "mean      1492.175463\n",
       "std       1368.018238\n",
       "min          0.000000\n",
       "25%        161.328167\n",
       "50%       1063.776282\n",
       "75%       2964.972462\n",
       "max       3600.000000\n",
       "Name: Theoretical_Power_Curve (KWh), dtype: float64"
      ]
     },
     "execution_count": 13,
     "metadata": {},
     "output_type": "execute_result"
    }
   ],
   "source": [
    "df['Theoretical_Power_Curve (KWh)'].describe()"
   ]
  },
  {
   "cell_type": "code",
   "execution_count": 22,
   "metadata": {},
   "outputs": [
    {
     "name": "stdout",
     "output_type": "stream",
     "text": [
      "Significant difference\n"
     ]
    }
   ],
   "source": [
    "if (abs(df['Theoretical_Power_Curve (KWh)'].median()-df['Theoretical_Power_Curve (KWh)'].mean())/(df['Theoretical_Power_Curve (KWh)'].median()+df['Theoretical_Power_Curve (KWh)'].mean())*2 <= 0.1):\n",
    "    print(\"Insignificant difference\")\n",
    "else:\n",
    "    print(\"Significant difference\")"
   ]
  },
  {
   "cell_type": "code",
   "execution_count": 31,
   "metadata": {},
   "outputs": [
    {
     "data": {
      "text/plain": [
       "Text(0.5, 0, 'Theoretical_Power_Curve (KWh)')"
      ]
     },
     "execution_count": 31,
     "metadata": {},
     "output_type": "execute_result"
    },
    {
     "data": {
      "image/png": "[encoded data removed]",
      "text/plain": [
       "<Figure size 432x288 with 1 Axes>"
      ]
     },
     "metadata": {
      "needs_background": "light"
     },
     "output_type": "display_data"
    }
   ],
   "source": [
    "theoPow = df['Theoretical_Power_Curve (KWh)'].plot.hist(bins = 20)\n",
    "theoPow.set_xlabel(\"Theoretical_Power_Curve (KWh)\")"
   ]
  },
  {
   "cell_type": "code",
   "execution_count": 14,
   "metadata": {},
   "outputs": [
    {
     "data": {
      "text/plain": [
       "count    50530.000000\n",
       "mean       123.687559\n",
       "std         93.443736\n",
       "min          0.000000\n",
       "25%         49.315437\n",
       "50%         73.712978\n",
       "75%        201.696720\n",
       "max        359.997589\n",
       "Name: Wind Direction (°), dtype: float64"
      ]
     },
     "execution_count": 14,
     "metadata": {},
     "output_type": "execute_result"
    }
   ],
   "source": [
    "df['Wind Direction (°)'].describe()"
   ]
  },
  {
   "cell_type": "code",
   "execution_count": 23,
   "metadata": {},
   "outputs": [
    {
     "name": "stdout",
     "output_type": "stream",
     "text": [
      "Significant difference\n"
     ]
    }
   ],
   "source": [
    "if (abs(df['Wind Direction (°)'].median()-df['Wind Direction (°)'].mean())/(df['Wind Direction (°)'].median()+df['Wind Direction (°)'].mean())*2 <= 0.1):\n",
    "    print(\"Insignificant difference\")\n",
    "else:\n",
    "    print(\"Significant difference\")"
   ]
  },
  {
   "cell_type": "code",
   "execution_count": 32,
   "metadata": {},
   "outputs": [
    {
     "data": {
      "text/plain": [
       "Text(0.5, 0, 'Wind Direction (°)')"
      ]
     },
     "execution_count": 32,
     "metadata": {},
     "output_type": "execute_result"
    },
    {
     "data": {
      "image/png": "[encoded data removed]",
      "text/plain": [
       "<Figure size 432x288 with 1 Axes>"
      ]
     },
     "metadata": {
      "needs_background": "light"
     },
     "output_type": "display_data"
    }
   ],
   "source": [
    "windDir = df['Wind Direction (°)'].plot.hist(bins = 20)\n",
    "windDir.set_xlabel(\"Wind Direction (°)\")"
   ]
  },
  {
   "cell_type": "code",
   "execution_count": 33,
   "metadata": {},
   "outputs": [
    {
     "data": {
      "text/html": [
       "<div>\n",
       "<style scoped>\n",
       "    .dataframe tbody tr th:only-of-type {\n",
       "        vertical-align: middle;\n",
       "    }\n",
       "\n",
       "    .dataframe tbody tr th {\n",
       "        vertical-align: top;\n",
       "    }\n",
       "\n",
       "    .dataframe thead th {\n",
       "        text-align: right;\n",
       "    }\n",
       "</style>\n",
       "<table border=\"1\" class=\"dataframe\">\n",
       "  <thead>\n",
       "    <tr style=\"text-align: right;\">\n",
       "      <th></th>\n",
       "      <th>Observation Number</th>\n",
       "      <th>LV ActivePower (kW)</th>\n",
       "      <th>Wind Speed (m/s)</th>\n",
       "      <th>Theoretical_Power_Curve (KWh)</th>\n",
       "      <th>Wind Direction (°)</th>\n",
       "    </tr>\n",
       "  </thead>\n",
       "  <tbody>\n",
       "    <tr>\n",
       "      <th>count</th>\n",
       "      <td>50530.000000</td>\n",
       "      <td>50530.000000</td>\n",
       "      <td>50530.000000</td>\n",
       "      <td>50530.000000</td>\n",
       "      <td>50530.000000</td>\n",
       "    </tr>\n",
       "    <tr>\n",
       "      <th>mean</th>\n",
       "      <td>25265.500000</td>\n",
       "      <td>1307.684332</td>\n",
       "      <td>7.557952</td>\n",
       "      <td>1492.175463</td>\n",
       "      <td>123.687559</td>\n",
       "    </tr>\n",
       "    <tr>\n",
       "      <th>std</th>\n",
       "      <td>14586.898888</td>\n",
       "      <td>1312.459242</td>\n",
       "      <td>4.227166</td>\n",
       "      <td>1368.018238</td>\n",
       "      <td>93.443736</td>\n",
       "    </tr>\n",
       "    <tr>\n",
       "      <th>min</th>\n",
       "      <td>1.000000</td>\n",
       "      <td>-2.471405</td>\n",
       "      <td>0.000000</td>\n",
       "      <td>0.000000</td>\n",
       "      <td>0.000000</td>\n",
       "    </tr>\n",
       "    <tr>\n",
       "      <th>25%</th>\n",
       "      <td>12633.250000</td>\n",
       "      <td>50.677890</td>\n",
       "      <td>4.201395</td>\n",
       "      <td>161.328167</td>\n",
       "      <td>49.315437</td>\n",
       "    </tr>\n",
       "    <tr>\n",
       "      <th>50%</th>\n",
       "      <td>25265.500000</td>\n",
       "      <td>825.838074</td>\n",
       "      <td>7.104594</td>\n",
       "      <td>1063.776282</td>\n",
       "      <td>73.712978</td>\n",
       "    </tr>\n",
       "    <tr>\n",
       "      <th>75%</th>\n",
       "      <td>37897.750000</td>\n",
       "      <td>2482.507568</td>\n",
       "      <td>10.300020</td>\n",
       "      <td>2964.972462</td>\n",
       "      <td>201.696720</td>\n",
       "    </tr>\n",
       "    <tr>\n",
       "      <th>max</th>\n",
       "      <td>50530.000000</td>\n",
       "      <td>3618.732910</td>\n",
       "      <td>25.206011</td>\n",
       "      <td>3600.000000</td>\n",
       "      <td>359.997589</td>\n",
       "    </tr>\n",
       "  </tbody>\n",
       "</table>\n",
       "</div>"
      ],
      "text/plain": [
       "       Observation Number  LV ActivePower (kW)  Wind Speed (m/s)  \\\n",
       "count        50530.000000         50530.000000      50530.000000   \n",
       "mean         25265.500000          1307.684332          7.557952   \n",
       "std          14586.898888          1312.459242          4.227166   \n",
       "min              1.000000            -2.471405          0.000000   \n",
       "25%          12633.250000            50.677890          4.201395   \n",
       "50%          25265.500000           825.838074          7.104594   \n",
       "75%          37897.750000          2482.507568         10.300020   \n",
       "max          50530.000000          3618.732910         25.206011   \n",
       "\n",
       "       Theoretical_Power_Curve (KWh)  Wind Direction (°)  \n",
       "count                   50530.000000        50530.000000  \n",
       "mean                     1492.175463          123.687559  \n",
       "std                      1368.018238           93.443736  \n",
       "min                         0.000000            0.000000  \n",
       "25%                       161.328167           49.315437  \n",
       "50%                      1063.776282           73.712978  \n",
       "75%                      2964.972462          201.696720  \n",
       "max                      3600.000000          359.997589  "
      ]
     },
     "execution_count": 33,
     "metadata": {},
     "output_type": "execute_result"
    }
   ],
   "source": [
    "df.describe()"
   ]
  },
  {
   "cell_type": "markdown",
   "metadata": {},
   "source": [
    "PART 1 DISCUSSION QUESTION 3\n",
    "\n",
    "The mean and median are not the same in any of the features, but for wind speed they are within 10% of each other. Otherwise, for active power, theoretical power, and wind direction, they are significantly different (more than 10%).\n",
    "\n",
    "The mean and median are different for active power, theoretical power, and wind direction because the data, as shown by the histograms, is bimodal so the mean may be affected more by the extreme values. The mean and median are similar for wind speed because the data is unimodal and skewed right.\n",
    "\n",
    "From df.describe(), active power, theoretical power, and wind direction all have high standard deviations (standard deviations close in value to the mean). The data is all positive, except active power. "
   ]
  },
  {
   "cell_type": "code",
   "execution_count": 36,
   "metadata": {},
   "outputs": [
    {
     "data": {
      "text/plain": [
       "Text(0, 0.5, 'Speed (m/s)')"
      ]
     },
     "execution_count": 36,
     "metadata": {},
     "output_type": "execute_result"
    },
    {
     "data": {
      "image/png": "[encoded data removed]",
      "text/plain": [
       "<Figure size 432x288 with 1 Axes>"
      ]
     },
     "metadata": {
      "needs_background": "light"
     },
     "output_type": "display_data"
    }
   ],
   "source": [
    "windSpdBP = df['Wind Speed (m/s)'].plot.box()\n",
    "windSpdBP.set_ylabel(\"Speed (m/s)\")"
   ]
  },
  {
   "cell_type": "code",
   "execution_count": 37,
   "metadata": {},
   "outputs": [
    {
     "data": {
      "text/plain": [
       "Text(0, 0.5, 'Power (kW)')"
      ]
     },
     "execution_count": 37,
     "metadata": {},
     "output_type": "execute_result"
    },
    {
     "data": {
      "image/png": "[encoded data removed]",
      "text/plain": [
       "<Figure size 432x288 with 1 Axes>"
      ]
     },
     "metadata": {
      "needs_background": "light"
     },
     "output_type": "display_data"
    }
   ],
   "source": [
    "actPowBP = df['LV ActivePower (kW)'].plot.box()\n",
    "actPowBP.set_ylabel(\"Power (kW)\")"
   ]
  },
  {
   "cell_type": "markdown",
   "metadata": {},
   "source": [
    "PART 1 DISCUSSION QUESTION 4\n",
    "\n",
    "The boxplot for wind speed is also skewed right, but differs from the histogram in that it shows outliers. The boxplot for actual power is also skewed right, but does not capture the bimodal shape shown in the histogram. "
   ]
  },
  {
   "cell_type": "code",
   "execution_count": 17,
   "metadata": {},
   "outputs": [],
   "source": [
    "def find_month(x):\n",
    "    if \" 01 \" in x:\n",
    "        return \"Jan\"\n",
    "    elif \" 02 \" in x:\n",
    "        return \"Feb\"\n",
    "    elif \" 03 \" in x:\n",
    "        return \"March\"    \n",
    "    elif \" 04 \" in x:\n",
    "        return \"April\"    \n",
    "    elif \" 05 \" in x:\n",
    "        return \"May\"    \n",
    "    elif \" 06 \" in x:\n",
    "        return \"June\"    \n",
    "    elif \" 07 \" in x:\n",
    "        return \"July\"    \n",
    "    elif \" 08 \" in x:\n",
    "        return \"August\"    \n",
    "    elif \" 09 \" in x:\n",
    "        return \"Sep\"    \n",
    "    elif \" 10 \" in x:\n",
    "        return \"Oct\"    \n",
    "    elif \" 11 \" in x:\n",
    "        return \"Nov\"    \n",
    "    else:\n",
    "        return \"Dec\""
   ]
  },
  {
   "cell_type": "code",
   "execution_count": 18,
   "metadata": {},
   "outputs": [],
   "source": [
    "df[\"Month\"]=df[\"Date/Time\"].apply(find_month)"
   ]
  },
  {
   "cell_type": "code",
   "execution_count": 19,
   "metadata": {},
   "outputs": [
    {
     "data": {
      "text/html": [
       "<div>\n",
       "<style scoped>\n",
       "    .dataframe tbody tr th:only-of-type {\n",
       "        vertical-align: middle;\n",
       "    }\n",
       "\n",
       "    .dataframe tbody tr th {\n",
       "        vertical-align: top;\n",
       "    }\n",
       "\n",
       "    .dataframe thead th {\n",
       "        text-align: right;\n",
       "    }\n",
       "</style>\n",
       "<table border=\"1\" class=\"dataframe\">\n",
       "  <thead>\n",
       "    <tr style=\"text-align: right;\">\n",
       "      <th></th>\n",
       "      <th>Observation Number</th>\n",
       "      <th>LV ActivePower (kW)</th>\n",
       "      <th>Wind Speed (m/s)</th>\n",
       "      <th>Theoretical_Power_Curve (KWh)</th>\n",
       "      <th>Wind Direction (°)</th>\n",
       "      <th>Loss</th>\n",
       "      <th>Loss Percentage</th>\n",
       "    </tr>\n",
       "    <tr>\n",
       "      <th>Month</th>\n",
       "      <th></th>\n",
       "      <th></th>\n",
       "      <th></th>\n",
       "      <th></th>\n",
       "      <th></th>\n",
       "      <th></th>\n",
       "      <th></th>\n",
       "    </tr>\n",
       "  </thead>\n",
       "  <tbody>\n",
       "    <tr>\n",
       "      <th>April</th>\n",
       "      <td>14465.0</td>\n",
       "      <td>824.358603</td>\n",
       "      <td>5.852096</td>\n",
       "      <td>955.690141</td>\n",
       "      <td>102.698848</td>\n",
       "      <td>131.331538</td>\n",
       "      <td>-inf</td>\n",
       "    </tr>\n",
       "    <tr>\n",
       "      <th>August</th>\n",
       "      <td>31988.0</td>\n",
       "      <td>1978.188795</td>\n",
       "      <td>9.339899</td>\n",
       "      <td>2220.579161</td>\n",
       "      <td>52.473360</td>\n",
       "      <td>242.390365</td>\n",
       "      <td>-inf</td>\n",
       "    </tr>\n",
       "    <tr>\n",
       "      <th>Dec</th>\n",
       "      <td>48307.0</td>\n",
       "      <td>1176.785881</td>\n",
       "      <td>7.357389</td>\n",
       "      <td>1424.063554</td>\n",
       "      <td>140.667803</td>\n",
       "      <td>247.277673</td>\n",
       "      <td>NaN</td>\n",
       "    </tr>\n",
       "    <tr>\n",
       "      <th>Feb</th>\n",
       "      <td>5833.5</td>\n",
       "      <td>1503.355020</td>\n",
       "      <td>8.620697</td>\n",
       "      <td>1712.709958</td>\n",
       "      <td>143.353927</td>\n",
       "      <td>209.354937</td>\n",
       "      <td>NaN</td>\n",
       "    </tr>\n",
       "    <tr>\n",
       "      <th>Jan</th>\n",
       "      <td>1909.0</td>\n",
       "      <td>1323.157951</td>\n",
       "      <td>8.550920</td>\n",
       "      <td>1847.287918</td>\n",
       "      <td>157.829495</td>\n",
       "      <td>524.129967</td>\n",
       "      <td>NaN</td>\n",
       "    </tr>\n",
       "    <tr>\n",
       "      <th>July</th>\n",
       "      <td>27543.5</td>\n",
       "      <td>477.014298</td>\n",
       "      <td>4.950335</td>\n",
       "      <td>583.709297</td>\n",
       "      <td>120.400853</td>\n",
       "      <td>106.694999</td>\n",
       "      <td>NaN</td>\n",
       "    </tr>\n",
       "    <tr>\n",
       "      <th>June</th>\n",
       "      <td>23189.0</td>\n",
       "      <td>995.490376</td>\n",
       "      <td>6.342205</td>\n",
       "      <td>1139.291376</td>\n",
       "      <td>130.566252</td>\n",
       "      <td>143.800999</td>\n",
       "      <td>NaN</td>\n",
       "    </tr>\n",
       "    <tr>\n",
       "      <th>March</th>\n",
       "      <td>10081.0</td>\n",
       "      <td>1952.405766</td>\n",
       "      <td>9.734390</td>\n",
       "      <td>2075.819877</td>\n",
       "      <td>190.378235</td>\n",
       "      <td>123.414111</td>\n",
       "      <td>NaN</td>\n",
       "    </tr>\n",
       "    <tr>\n",
       "      <th>May</th>\n",
       "      <td>18842.0</td>\n",
       "      <td>836.941996</td>\n",
       "      <td>5.859028</td>\n",
       "      <td>960.203607</td>\n",
       "      <td>136.501579</td>\n",
       "      <td>123.261610</td>\n",
       "      <td>NaN</td>\n",
       "    </tr>\n",
       "    <tr>\n",
       "      <th>Nov</th>\n",
       "      <td>44183.5</td>\n",
       "      <td>1886.693868</td>\n",
       "      <td>9.373864</td>\n",
       "      <td>2030.027723</td>\n",
       "      <td>101.102801</td>\n",
       "      <td>143.333855</td>\n",
       "      <td>-inf</td>\n",
       "    </tr>\n",
       "    <tr>\n",
       "      <th>Oct</th>\n",
       "      <td>40242.0</td>\n",
       "      <td>1408.274877</td>\n",
       "      <td>7.538289</td>\n",
       "      <td>1534.185219</td>\n",
       "      <td>108.738023</td>\n",
       "      <td>125.910342</td>\n",
       "      <td>NaN</td>\n",
       "    </tr>\n",
       "    <tr>\n",
       "      <th>Sep</th>\n",
       "      <td>36200.5</td>\n",
       "      <td>1429.484639</td>\n",
       "      <td>7.583327</td>\n",
       "      <td>1553.319599</td>\n",
       "      <td>98.196628</td>\n",
       "      <td>123.834960</td>\n",
       "      <td>NaN</td>\n",
       "    </tr>\n",
       "  </tbody>\n",
       "</table>\n",
       "</div>"
      ],
      "text/plain": [
       "        Observation Number  LV ActivePower (kW)  Wind Speed (m/s)  \\\n",
       "Month                                                               \n",
       "April              14465.0           824.358603          5.852096   \n",
       "August             31988.0          1978.188795          9.339899   \n",
       "Dec                48307.0          1176.785881          7.357389   \n",
       "Feb                 5833.5          1503.355020          8.620697   \n",
       "Jan                 1909.0          1323.157951          8.550920   \n",
       "July               27543.5           477.014298          4.950335   \n",
       "June               23189.0           995.490376          6.342205   \n",
       "March              10081.0          1952.405766          9.734390   \n",
       "May                18842.0           836.941996          5.859028   \n",
       "Nov                44183.5          1886.693868          9.373864   \n",
       "Oct                40242.0          1408.274877          7.538289   \n",
       "Sep                36200.5          1429.484639          7.583327   \n",
       "\n",
       "        Theoretical_Power_Curve (KWh)  Wind Direction (°)        Loss  \\\n",
       "Month                                                                   \n",
       "April                      955.690141          102.698848  131.331538   \n",
       "August                    2220.579161           52.473360  242.390365   \n",
       "Dec                       1424.063554          140.667803  247.277673   \n",
       "Feb                       1712.709958          143.353927  209.354937   \n",
       "Jan                       1847.287918          157.829495  524.129967   \n",
       "July                       583.709297          120.400853  106.694999   \n",
       "June                      1139.291376          130.566252  143.800999   \n",
       "March                     2075.819877          190.378235  123.414111   \n",
       "May                        960.203607          136.501579  123.261610   \n",
       "Nov                       2030.027723          101.102801  143.333855   \n",
       "Oct                       1534.185219          108.738023  125.910342   \n",
       "Sep                       1553.319599           98.196628  123.834960   \n",
       "\n",
       "        Loss Percentage  \n",
       "Month                    \n",
       "April              -inf  \n",
       "August             -inf  \n",
       "Dec                 NaN  \n",
       "Feb                 NaN  \n",
       "Jan                 NaN  \n",
       "July                NaN  \n",
       "June                NaN  \n",
       "March               NaN  \n",
       "May                 NaN  \n",
       "Nov                -inf  \n",
       "Oct                 NaN  \n",
       "Sep                 NaN  "
      ]
     },
     "execution_count": 19,
     "metadata": {},
     "output_type": "execute_result"
    }
   ],
   "source": [
    "df.groupby(\"Month\").mean()"
   ]
  },
  {
   "cell_type": "markdown",
   "metadata": {},
   "source": [
    "PART 1 DISCUSSION QUESTION 5\n",
    "\n",
    "March, November, and August have the highest average wind speed. August, March, and November has the highest actual power and theoretical power output. This is what I expect - as energy is generated from wind turning the turbine, the more wind, the more energy produced is expected."
   ]
  },
  {
   "cell_type": "code",
   "execution_count": 43,
   "metadata": {},
   "outputs": [
    {
     "data": {
      "text/plain": [
       "Text(0, 0.5, 'Theoretical_Power_Curve (KWh)')"
      ]
     },
     "execution_count": 43,
     "metadata": {},
     "output_type": "execute_result"
    },
    {
     "data": {
      "image/png": "[encoded data removed]",
      "text/plain": [
       "<Figure size 432x288 with 1 Axes>"
      ]
     },
     "metadata": {
      "needs_background": "light"
     },
     "output_type": "display_data"
    }
   ],
   "source": [
    "x1 = df[\"Wind Speed (m/s)\"]\n",
    "y1 = df[\"Theoretical_Power_Curve (KWh)\"]\n",
    "plt.scatter(x1,y1)\n",
    "plt.xlabel(\"Wind Speed (m/s)\")\n",
    "plt.ylabel(\"Theoretical_Power_Curve (KWh)\")"
   ]
  },
  {
   "cell_type": "code",
   "execution_count": 45,
   "metadata": {},
   "outputs": [
    {
     "data": {
      "text/plain": [
       "Text(0, 0.5, 'Theoretical_Power_Curve (KWh)')"
      ]
     },
     "execution_count": 45,
     "metadata": {},
     "output_type": "execute_result"
    },
    {
     "data": {
      "image/png": "[encoded data removed]",
      "text/plain": [
       "<Figure size 432x288 with 1 Axes>"
      ]
     },
     "metadata": {
      "needs_background": "light"
     },
     "output_type": "display_data"
    }
   ],
   "source": [
    "x2 = df[\"Wind Direction (°)\"]\n",
    "y2 = df[\"Theoretical_Power_Curve (KWh)\"]\n",
    "plt.scatter(x2,y2)\n",
    "plt.xlabel(\"Wind Direction (°)\")\n",
    "plt.ylabel(\"Theoretical_Power_Curve (KWh)\")"
   ]
  },
  {
   "cell_type": "markdown",
   "metadata": {},
   "source": [
    "PART 2 DISCUSSION QUESTION 1\n",
    "\n",
    "Wind speed and direction should be the features on the x-axes of the scatterplots because in theory the energy is generated from the wind, so changing characteristics of the wind will affect the energy. Wind speed and direction are the independent variables.\n",
    "\n",
    "The first plot shows that theoretical power has a strong, positive correlation with wind speed. From the scatterplot, it appears like logistic growth. The second plot shows that theoretical power has a weak correlation with wind direction. Changing the wind direction seems to have little effect on theoretical power, although there seem to be two favorable direction ranges - between 0 and approximately 70 degrees and between 150 to 250 degrees, approximately. Within these ranges, more points at a higher theoretical power are observed."
   ]
  },
  {
   "cell_type": "code",
   "execution_count": 46,
   "metadata": {},
   "outputs": [
    {
     "data": {
      "text/plain": [
       "Text(0, 0.5, 'LV ActivePower (kW)')"
      ]
     },
     "execution_count": 46,
     "metadata": {},
     "output_type": "execute_result"
    },
    {
     "data": {
      "image/png": "[encoded data removed]",
      "text/plain": [
       "<Figure size 432x288 with 1 Axes>"
      ]
     },
     "metadata": {
      "needs_background": "light"
     },
     "output_type": "display_data"
    }
   ],
   "source": [
    "x3 = df[\"Wind Speed (m/s)\"]\n",
    "y3 = df[\"LV ActivePower (kW)\"]\n",
    "plt.scatter(x3,y3)\n",
    "plt.xlabel(\"Wind Speed (m/s)\")\n",
    "plt.ylabel(\"LV ActivePower (kW)\")"
   ]
  },
  {
   "cell_type": "code",
   "execution_count": 48,
   "metadata": {},
   "outputs": [
    {
     "data": {
      "text/plain": [
       "Text(0, 0.5, 'LV ActivePower (kW)')"
      ]
     },
     "execution_count": 48,
     "metadata": {},
     "output_type": "execute_result"
    },
    {
     "data": {
      "image/png": "[encoded data removed]",
      "text/plain": [
       "<Figure size 432x288 with 1 Axes>"
      ]
     },
     "metadata": {
      "needs_background": "light"
     },
     "output_type": "display_data"
    }
   ],
   "source": [
    "x4 = df[\"Wind Direction (°)\"]\n",
    "y4 = df[\"LV ActivePower (kW)\"]\n",
    "plt.scatter(x4,y4)\n",
    "plt.xlabel(\"Wind Direction (°)\")\n",
    "plt.ylabel(\"LV ActivePower (kW)\")"
   ]
  },
  {
   "cell_type": "markdown",
   "metadata": {},
   "source": [
    "PART 2 DISCUSSION QUESTION 2\n",
    "\n",
    "The first plot shows that actual power has a fairly strong, positive correlation with wind speed. From the scatterplot, it appears like logistic growth. The second plot shows that actual power has a weak correlation with wind direction. Changing the wind direction seems to have little effect on actual power, although there seem to be two favorable direction ranges - between 0 and approximately 70 degrees and between 150 to 250 degrees, approximately. Within these ranges, more points at a higher actual power are observed."
   ]
  },
  {
   "cell_type": "markdown",
   "metadata": {},
   "source": [
    "PART 2 DISCUSSION QUESTION 3\n",
    "\n",
    "The actual and theoretical power plots versus wind speed are similar, although the actual power plot has a weaker correlation and more data at lower powers compared to the theoretical power at the same wind speeds. I think this is because the theoretical power represents the maximum actual power, or a number close yet slightly greater than the maximum actual power, and different factors like duration of maintained wind speed, friction in the turbine, and wind direction contribute to power losses. \n",
    "\n",
    "The actual and theoretical power plots versus wind direction are very similar. They both show a weak correlation between power and wind direction and two ranges of favorable wind directions with higher power measurements."
   ]
  },
  {
   "cell_type": "code",
   "execution_count": 49,
   "metadata": {},
   "outputs": [
    {
     "data": {
      "text/html": [
       "<div>\n",
       "<style scoped>\n",
       "    .dataframe tbody tr th:only-of-type {\n",
       "        vertical-align: middle;\n",
       "    }\n",
       "\n",
       "    .dataframe tbody tr th {\n",
       "        vertical-align: top;\n",
       "    }\n",
       "\n",
       "    .dataframe thead th {\n",
       "        text-align: right;\n",
       "    }\n",
       "</style>\n",
       "<table border=\"1\" class=\"dataframe\">\n",
       "  <thead>\n",
       "    <tr style=\"text-align: right;\">\n",
       "      <th></th>\n",
       "      <th>Observation Number</th>\n",
       "      <th>LV ActivePower (kW)</th>\n",
       "      <th>Wind Speed (m/s)</th>\n",
       "      <th>Theoretical_Power_Curve (KWh)</th>\n",
       "      <th>Wind Direction (°)</th>\n",
       "    </tr>\n",
       "  </thead>\n",
       "  <tbody>\n",
       "    <tr>\n",
       "      <th>Observation Number</th>\n",
       "      <td>1.000000</td>\n",
       "      <td>0.029917</td>\n",
       "      <td>-0.013854</td>\n",
       "      <td>0.006009</td>\n",
       "      <td>-0.183999</td>\n",
       "    </tr>\n",
       "    <tr>\n",
       "      <th>LV ActivePower (kW)</th>\n",
       "      <td>0.029917</td>\n",
       "      <td>1.000000</td>\n",
       "      <td>0.912774</td>\n",
       "      <td>0.949918</td>\n",
       "      <td>-0.062702</td>\n",
       "    </tr>\n",
       "    <tr>\n",
       "      <th>Wind Speed (m/s)</th>\n",
       "      <td>-0.013854</td>\n",
       "      <td>0.912774</td>\n",
       "      <td>1.000000</td>\n",
       "      <td>0.944209</td>\n",
       "      <td>-0.077188</td>\n",
       "    </tr>\n",
       "    <tr>\n",
       "      <th>Theoretical_Power_Curve (KWh)</th>\n",
       "      <td>0.006009</td>\n",
       "      <td>0.949918</td>\n",
       "      <td>0.944209</td>\n",
       "      <td>1.000000</td>\n",
       "      <td>-0.099076</td>\n",
       "    </tr>\n",
       "    <tr>\n",
       "      <th>Wind Direction (°)</th>\n",
       "      <td>-0.183999</td>\n",
       "      <td>-0.062702</td>\n",
       "      <td>-0.077188</td>\n",
       "      <td>-0.099076</td>\n",
       "      <td>1.000000</td>\n",
       "    </tr>\n",
       "  </tbody>\n",
       "</table>\n",
       "</div>"
      ],
      "text/plain": [
       "                               Observation Number  LV ActivePower (kW)  \\\n",
       "Observation Number                       1.000000             0.029917   \n",
       "LV ActivePower (kW)                      0.029917             1.000000   \n",
       "Wind Speed (m/s)                        -0.013854             0.912774   \n",
       "Theoretical_Power_Curve (KWh)            0.006009             0.949918   \n",
       "Wind Direction (°)                      -0.183999            -0.062702   \n",
       "\n",
       "                               Wind Speed (m/s)  \\\n",
       "Observation Number                    -0.013854   \n",
       "LV ActivePower (kW)                    0.912774   \n",
       "Wind Speed (m/s)                       1.000000   \n",
       "Theoretical_Power_Curve (KWh)          0.944209   \n",
       "Wind Direction (°)                    -0.077188   \n",
       "\n",
       "                               Theoretical_Power_Curve (KWh)  \\\n",
       "Observation Number                                  0.006009   \n",
       "LV ActivePower (kW)                                 0.949918   \n",
       "Wind Speed (m/s)                                    0.944209   \n",
       "Theoretical_Power_Curve (KWh)                       1.000000   \n",
       "Wind Direction (°)                                 -0.099076   \n",
       "\n",
       "                               Wind Direction (°)  \n",
       "Observation Number                      -0.183999  \n",
       "LV ActivePower (kW)                     -0.062702  \n",
       "Wind Speed (m/s)                        -0.077188  \n",
       "Theoretical_Power_Curve (KWh)           -0.099076  \n",
       "Wind Direction (°)                       1.000000  "
      ]
     },
     "execution_count": 49,
     "metadata": {},
     "output_type": "execute_result"
    }
   ],
   "source": [
    "df.corr()"
   ]
  },
  {
   "cell_type": "markdown",
   "metadata": {},
   "source": [
    "PART 2 DISCUSSION QUESTION 4\n",
    "\n",
    "(a) There is a strong, positive correlation between wind speed and theoretical power curve.\n",
    "\n",
    "(b) There is a weak, slightly negative correlation between wind direction and theoretical power curve.\n",
    "\n",
    "(c) There is a strong, positive correlation between wind speed and actual power curve, although not as strong as the correlation between wind speed and theoretical power curve.\n",
    "\n",
    "(d) There is a weak, slightly negative correlation between wind direction and actual power curve.\n",
    "\n",
    "Yes, these observations agree with the four scatterplots created previously because they support the similarity between the actual and theoretical power plots, with some variation between actual power versus wind speed and theoretical power versus wind speed. Also, these observations support the correlations concluded from the scatterplots - generally, there is a strong, positive correlation between power and wind speed and a weak correlation between power and wind direction."
   ]
  },
  {
   "cell_type": "markdown",
   "metadata": {},
   "source": [
    "PART 2 DISCUSSION QUESTION 5\n",
    "\n",
    "There is a strong, positive correlation between actual power and theoretical power. This does make sense to me because this means the theoretical calculation for power is fairly accurate at predicting actual power although not perfectly. However, it is important to note that this does not signify any causation relationship between theoretical and actual power."
   ]
  },
  {
   "cell_type": "code",
   "execution_count": 20,
   "metadata": {},
   "outputs": [],
   "source": [
    "df[\"Loss\"] = df[\"Theoretical_Power_Curve (KWh)\"] - df[\"LV ActivePower (kW)\"]\n",
    "df[\"Loss Percentage\"] = df[\"Loss\"] / df[\"Theoretical_Power_Curve (KWh)\"]*100"
   ]
  },
  {
   "cell_type": "code",
   "execution_count": 21,
   "metadata": {},
   "outputs": [
    {
     "data": {
      "text/html": [
       "<div>\n",
       "<style scoped>\n",
       "    .dataframe tbody tr th:only-of-type {\n",
       "        vertical-align: middle;\n",
       "    }\n",
       "\n",
       "    .dataframe tbody tr th {\n",
       "        vertical-align: top;\n",
       "    }\n",
       "\n",
       "    .dataframe thead th {\n",
       "        text-align: right;\n",
       "    }\n",
       "</style>\n",
       "<table border=\"1\" class=\"dataframe\">\n",
       "  <thead>\n",
       "    <tr style=\"text-align: right;\">\n",
       "      <th></th>\n",
       "      <th>Observation Number</th>\n",
       "      <th>Date/Time</th>\n",
       "      <th>LV ActivePower (kW)</th>\n",
       "      <th>Wind Speed (m/s)</th>\n",
       "      <th>Theoretical_Power_Curve (KWh)</th>\n",
       "      <th>Wind Direction (°)</th>\n",
       "      <th>Loss</th>\n",
       "      <th>Loss Percentage</th>\n",
       "      <th>Month</th>\n",
       "    </tr>\n",
       "  </thead>\n",
       "  <tbody>\n",
       "    <tr>\n",
       "      <th>0</th>\n",
       "      <td>1</td>\n",
       "      <td>01 01 2018 00:00</td>\n",
       "      <td>380.047791</td>\n",
       "      <td>5.311336</td>\n",
       "      <td>416.328908</td>\n",
       "      <td>259.994904</td>\n",
       "      <td>36.281117</td>\n",
       "      <td>8.714532</td>\n",
       "      <td>Jan</td>\n",
       "    </tr>\n",
       "    <tr>\n",
       "      <th>1</th>\n",
       "      <td>2</td>\n",
       "      <td>01 01 2018 00:10</td>\n",
       "      <td>453.769196</td>\n",
       "      <td>5.672167</td>\n",
       "      <td>519.917511</td>\n",
       "      <td>268.641113</td>\n",
       "      <td>66.148315</td>\n",
       "      <td>12.722848</td>\n",
       "      <td>Jan</td>\n",
       "    </tr>\n",
       "    <tr>\n",
       "      <th>2</th>\n",
       "      <td>3</td>\n",
       "      <td>01 01 2018 00:20</td>\n",
       "      <td>306.376587</td>\n",
       "      <td>5.216037</td>\n",
       "      <td>390.900016</td>\n",
       "      <td>272.564789</td>\n",
       "      <td>84.523429</td>\n",
       "      <td>21.622774</td>\n",
       "      <td>Jan</td>\n",
       "    </tr>\n",
       "    <tr>\n",
       "      <th>3</th>\n",
       "      <td>4</td>\n",
       "      <td>01 01 2018 00:30</td>\n",
       "      <td>419.645904</td>\n",
       "      <td>5.659674</td>\n",
       "      <td>516.127569</td>\n",
       "      <td>271.258087</td>\n",
       "      <td>96.481665</td>\n",
       "      <td>18.693375</td>\n",
       "      <td>Jan</td>\n",
       "    </tr>\n",
       "    <tr>\n",
       "      <th>4</th>\n",
       "      <td>5</td>\n",
       "      <td>01 01 2018 00:40</td>\n",
       "      <td>380.650696</td>\n",
       "      <td>5.577941</td>\n",
       "      <td>491.702972</td>\n",
       "      <td>265.674286</td>\n",
       "      <td>111.052276</td>\n",
       "      <td>22.585236</td>\n",
       "      <td>Jan</td>\n",
       "    </tr>\n",
       "  </tbody>\n",
       "</table>\n",
       "</div>"
      ],
      "text/plain": [
       "   Observation Number         Date/Time  LV ActivePower (kW)  \\\n",
       "0                   1  01 01 2018 00:00           380.047791   \n",
       "1                   2  01 01 2018 00:10           453.769196   \n",
       "2                   3  01 01 2018 00:20           306.376587   \n",
       "3                   4  01 01 2018 00:30           419.645904   \n",
       "4                   5  01 01 2018 00:40           380.650696   \n",
       "\n",
       "   Wind Speed (m/s)  Theoretical_Power_Curve (KWh)  Wind Direction (°)  \\\n",
       "0          5.311336                     416.328908          259.994904   \n",
       "1          5.672167                     519.917511          268.641113   \n",
       "2          5.216037                     390.900016          272.564789   \n",
       "3          5.659674                     516.127569          271.258087   \n",
       "4          5.577941                     491.702972          265.674286   \n",
       "\n",
       "         Loss  Loss Percentage Month  \n",
       "0   36.281117         8.714532   Jan  \n",
       "1   66.148315        12.722848   Jan  \n",
       "2   84.523429        21.622774   Jan  \n",
       "3   96.481665        18.693375   Jan  \n",
       "4  111.052276        22.585236   Jan  "
      ]
     },
     "execution_count": 21,
     "metadata": {},
     "output_type": "execute_result"
    }
   ],
   "source": [
    "df.head()"
   ]
  },
  {
   "cell_type": "code",
   "execution_count": 22,
   "metadata": {},
   "outputs": [
    {
     "data": {
      "text/html": [
       "<div>\n",
       "<style scoped>\n",
       "    .dataframe tbody tr th:only-of-type {\n",
       "        vertical-align: middle;\n",
       "    }\n",
       "\n",
       "    .dataframe tbody tr th {\n",
       "        vertical-align: top;\n",
       "    }\n",
       "\n",
       "    .dataframe thead th {\n",
       "        text-align: right;\n",
       "    }\n",
       "</style>\n",
       "<table border=\"1\" class=\"dataframe\">\n",
       "  <thead>\n",
       "    <tr style=\"text-align: right;\">\n",
       "      <th></th>\n",
       "      <th>Observation Number</th>\n",
       "      <th>Date/Time</th>\n",
       "      <th>LV ActivePower (kW)</th>\n",
       "      <th>Wind Speed (m/s)</th>\n",
       "      <th>Theoretical_Power_Curve (KWh)</th>\n",
       "      <th>Wind Direction (°)</th>\n",
       "      <th>Loss</th>\n",
       "      <th>Loss Percentage</th>\n",
       "      <th>Month</th>\n",
       "    </tr>\n",
       "  </thead>\n",
       "  <tbody>\n",
       "    <tr>\n",
       "      <th>50525</th>\n",
       "      <td>50526</td>\n",
       "      <td>31 12 2018 23:10</td>\n",
       "      <td>2963.980957</td>\n",
       "      <td>11.404030</td>\n",
       "      <td>3397.190793</td>\n",
       "      <td>80.502724</td>\n",
       "      <td>433.209836</td>\n",
       "      <td>12.752002</td>\n",
       "      <td>Dec</td>\n",
       "    </tr>\n",
       "    <tr>\n",
       "      <th>50526</th>\n",
       "      <td>50527</td>\n",
       "      <td>31 12 2018 23:20</td>\n",
       "      <td>1684.353027</td>\n",
       "      <td>7.332648</td>\n",
       "      <td>1173.055771</td>\n",
       "      <td>84.062599</td>\n",
       "      <td>-511.297256</td>\n",
       "      <td>-43.586782</td>\n",
       "      <td>Dec</td>\n",
       "    </tr>\n",
       "    <tr>\n",
       "      <th>50527</th>\n",
       "      <td>50528</td>\n",
       "      <td>31 12 2018 23:30</td>\n",
       "      <td>2201.106934</td>\n",
       "      <td>8.435358</td>\n",
       "      <td>1788.284755</td>\n",
       "      <td>84.742500</td>\n",
       "      <td>-412.822179</td>\n",
       "      <td>-23.084812</td>\n",
       "      <td>Dec</td>\n",
       "    </tr>\n",
       "    <tr>\n",
       "      <th>50528</th>\n",
       "      <td>50529</td>\n",
       "      <td>31 12 2018 23:40</td>\n",
       "      <td>2515.694092</td>\n",
       "      <td>9.421366</td>\n",
       "      <td>2418.382503</td>\n",
       "      <td>84.297913</td>\n",
       "      <td>-97.311589</td>\n",
       "      <td>-4.023830</td>\n",
       "      <td>Dec</td>\n",
       "    </tr>\n",
       "    <tr>\n",
       "      <th>50529</th>\n",
       "      <td>50530</td>\n",
       "      <td>31 12 2018 23:50</td>\n",
       "      <td>2820.466064</td>\n",
       "      <td>9.979332</td>\n",
       "      <td>2779.184096</td>\n",
       "      <td>82.274620</td>\n",
       "      <td>-41.281968</td>\n",
       "      <td>-1.485399</td>\n",
       "      <td>Dec</td>\n",
       "    </tr>\n",
       "  </tbody>\n",
       "</table>\n",
       "</div>"
      ],
      "text/plain": [
       "       Observation Number         Date/Time  LV ActivePower (kW)  \\\n",
       "50525               50526  31 12 2018 23:10          2963.980957   \n",
       "50526               50527  31 12 2018 23:20          1684.353027   \n",
       "50527               50528  31 12 2018 23:30          2201.106934   \n",
       "50528               50529  31 12 2018 23:40          2515.694092   \n",
       "50529               50530  31 12 2018 23:50          2820.466064   \n",
       "\n",
       "       Wind Speed (m/s)  Theoretical_Power_Curve (KWh)  Wind Direction (°)  \\\n",
       "50525         11.404030                    3397.190793           80.502724   \n",
       "50526          7.332648                    1173.055771           84.062599   \n",
       "50527          8.435358                    1788.284755           84.742500   \n",
       "50528          9.421366                    2418.382503           84.297913   \n",
       "50529          9.979332                    2779.184096           82.274620   \n",
       "\n",
       "             Loss  Loss Percentage Month  \n",
       "50525  433.209836        12.752002   Dec  \n",
       "50526 -511.297256       -43.586782   Dec  \n",
       "50527 -412.822179       -23.084812   Dec  \n",
       "50528  -97.311589        -4.023830   Dec  \n",
       "50529  -41.281968        -1.485399   Dec  "
      ]
     },
     "execution_count": 22,
     "metadata": {},
     "output_type": "execute_result"
    }
   ],
   "source": [
    "df.tail()"
   ]
  },
  {
   "cell_type": "markdown",
   "metadata": {},
   "source": [
    "PART 3 DISCUSSION QUESTION 1A\n",
    "\n",
    "The column \"Loss\" represents the difference in power that was expected to be produced based on wind speed and direction (theoretical power) and power that was actually produced (active power) at each data collection point. The column \"Loss Percentage\" represents the same difference as a percent of the theoretical power, which could be considered the maximum possible actual power. "
   ]
  },
  {
   "cell_type": "code",
   "execution_count": 11,
   "metadata": {},
   "outputs": [
    {
     "data": {
      "text/plain": [
       "Text(0, 0.5, 'Loss')"
      ]
     },
     "execution_count": 11,
     "metadata": {},
     "output_type": "execute_result"
    },
    {
     "data": {
      "image/png": "[encoded data removed]",
      "text/plain": [
       "<Figure size 432x288 with 1 Axes>"
      ]
     },
     "metadata": {
      "needs_background": "light"
     },
     "output_type": "display_data"
    }
   ],
   "source": [
    "x5 = df[\"Wind Speed (m/s)\"]\n",
    "y5 = df[\"Loss\"]\n",
    "plt.scatter(x5,y5)\n",
    "plt.xlabel(\"Wind Speed (m/s)\")\n",
    "plt.ylabel(\"Loss\")"
   ]
  },
  {
   "cell_type": "code",
   "execution_count": 12,
   "metadata": {},
   "outputs": [
    {
     "data": {
      "text/plain": [
       "Text(0, 0.5, 'Loss Percentage')"
      ]
     },
     "execution_count": 12,
     "metadata": {},
     "output_type": "execute_result"
    },
    {
     "data": {
      "image/png": "[encoded data removed]",
      "text/plain": [
       "<Figure size 432x288 with 1 Axes>"
      ]
     },
     "metadata": {
      "needs_background": "light"
     },
     "output_type": "display_data"
    }
   ],
   "source": [
    "x6 = df[\"Wind Speed (m/s)\"]\n",
    "y6 = df[\"Loss Percentage\"]\n",
    "plt.scatter(x6,y6)\n",
    "plt.xlabel(\"Wind Speed (m/s)\")\n",
    "plt.ylabel(\"Loss Percentage\")"
   ]
  },
  {
   "cell_type": "markdown",
   "metadata": {},
   "source": [
    "PART 3 DISCUSSION QUESTION 1B\n",
    "\n",
    "Wind speed has a weak negative correlation with loss and loss percentage. At lower speeds, there are higher loss and loss percentage values observed. It should be noted at lower speeds there are also negative loss and loss percentages observed, which may due to the logical flaw in comparing a power in kW to a power in kWH. "
   ]
  },
  {
   "cell_type": "markdown",
   "metadata": {},
   "source": [
    "PART 3 DISCUSSION QUESTION 1C\n",
    "\n",
    "I think there may be start up loss - if the wind is not consistent in speed, the turbine may slow down and lose energy from static friction on starting to move after a period of being stopped. There may also be loss from the wind direction - if the theoretical calculation assumes the wind direction, changing the actual wind direction may mean the turbine is not spun as effectively. To overcome these two potential sources of loss, better maintenance (oiling, part replacement) of the turbine and an addition to the design such that the turbine can adjust its position to catch more wind based on the direction might be beneficial, respectively. Another option would be to choose a different turbine that has less start up loss. "
   ]
  },
  {
   "cell_type": "code",
   "execution_count": 41,
   "metadata": {},
   "outputs": [
    {
     "data": {
      "text/html": [
       "<div>\n",
       "<style scoped>\n",
       "    .dataframe tbody tr th:only-of-type {\n",
       "        vertical-align: middle;\n",
       "    }\n",
       "\n",
       "    .dataframe tbody tr th {\n",
       "        vertical-align: top;\n",
       "    }\n",
       "\n",
       "    .dataframe thead th {\n",
       "        text-align: right;\n",
       "    }\n",
       "</style>\n",
       "<table border=\"1\" class=\"dataframe\">\n",
       "  <thead>\n",
       "    <tr style=\"text-align: right;\">\n",
       "      <th></th>\n",
       "      <th>Observation Number</th>\n",
       "      <th>LV ActivePower (kW)</th>\n",
       "      <th>Wind Speed (m/s)</th>\n",
       "      <th>Theoretical_Power_Curve (KWh)</th>\n",
       "      <th>Wind Direction (°)</th>\n",
       "      <th>Loss</th>\n",
       "      <th>Loss Percentage</th>\n",
       "    </tr>\n",
       "  </thead>\n",
       "  <tbody>\n",
       "    <tr>\n",
       "      <th>count</th>\n",
       "      <td>10838.000000</td>\n",
       "      <td>10838.000000</td>\n",
       "      <td>10838.000000</td>\n",
       "      <td>10838.000000</td>\n",
       "      <td>10838.000000</td>\n",
       "      <td>10838.000000</td>\n",
       "      <td>3554.0</td>\n",
       "    </tr>\n",
       "    <tr>\n",
       "      <th>mean</th>\n",
       "      <td>22939.762502</td>\n",
       "      <td>-0.001713</td>\n",
       "      <td>3.119873</td>\n",
       "      <td>255.914291</td>\n",
       "      <td>153.554651</td>\n",
       "      <td>255.916004</td>\n",
       "      <td>inf</td>\n",
       "    </tr>\n",
       "    <tr>\n",
       "      <th>std</th>\n",
       "      <td>15115.276855</td>\n",
       "      <td>0.037258</td>\n",
       "      <td>2.466702</td>\n",
       "      <td>727.454003</td>\n",
       "      <td>110.969862</td>\n",
       "      <td>727.453432</td>\n",
       "      <td>NaN</td>\n",
       "    </tr>\n",
       "    <tr>\n",
       "      <th>min</th>\n",
       "      <td>383.000000</td>\n",
       "      <td>-2.471405</td>\n",
       "      <td>0.000000</td>\n",
       "      <td>0.000000</td>\n",
       "      <td>0.000000</td>\n",
       "      <td>0.000000</td>\n",
       "      <td>100.0</td>\n",
       "    </tr>\n",
       "    <tr>\n",
       "      <th>25%</th>\n",
       "      <td>11719.250000</td>\n",
       "      <td>0.000000</td>\n",
       "      <td>1.741690</td>\n",
       "      <td>0.000000</td>\n",
       "      <td>51.544454</td>\n",
       "      <td>0.000000</td>\n",
       "      <td>100.0</td>\n",
       "    </tr>\n",
       "    <tr>\n",
       "      <th>50%</th>\n",
       "      <td>19356.500000</td>\n",
       "      <td>0.000000</td>\n",
       "      <td>2.478129</td>\n",
       "      <td>0.000000</td>\n",
       "      <td>125.134151</td>\n",
       "      <td>0.000000</td>\n",
       "      <td>100.0</td>\n",
       "    </tr>\n",
       "    <tr>\n",
       "      <th>75%</th>\n",
       "      <td>34815.750000</td>\n",
       "      <td>0.000000</td>\n",
       "      <td>3.265435</td>\n",
       "      <td>30.130376</td>\n",
       "      <td>253.807800</td>\n",
       "      <td>30.130376</td>\n",
       "      <td>100.0</td>\n",
       "    </tr>\n",
       "    <tr>\n",
       "      <th>max</th>\n",
       "      <td>50470.000000</td>\n",
       "      <td>0.000000</td>\n",
       "      <td>17.669189</td>\n",
       "      <td>3600.000000</td>\n",
       "      <td>359.987396</td>\n",
       "      <td>3600.000000</td>\n",
       "      <td>inf</td>\n",
       "    </tr>\n",
       "  </tbody>\n",
       "</table>\n",
       "</div>"
      ],
      "text/plain": [
       "       Observation Number  LV ActivePower (kW)  Wind Speed (m/s)  \\\n",
       "count        10838.000000         10838.000000      10838.000000   \n",
       "mean         22939.762502            -0.001713          3.119873   \n",
       "std          15115.276855             0.037258          2.466702   \n",
       "min            383.000000            -2.471405          0.000000   \n",
       "25%          11719.250000             0.000000          1.741690   \n",
       "50%          19356.500000             0.000000          2.478129   \n",
       "75%          34815.750000             0.000000          3.265435   \n",
       "max          50470.000000             0.000000         17.669189   \n",
       "\n",
       "       Theoretical_Power_Curve (KWh)  Wind Direction (°)          Loss  \\\n",
       "count                   10838.000000        10838.000000  10838.000000   \n",
       "mean                      255.914291          153.554651    255.916004   \n",
       "std                       727.454003          110.969862    727.453432   \n",
       "min                         0.000000            0.000000      0.000000   \n",
       "25%                         0.000000           51.544454      0.000000   \n",
       "50%                         0.000000          125.134151      0.000000   \n",
       "75%                        30.130376          253.807800     30.130376   \n",
       "max                      3600.000000          359.987396   3600.000000   \n",
       "\n",
       "       Loss Percentage  \n",
       "count           3554.0  \n",
       "mean               inf  \n",
       "std                NaN  \n",
       "min              100.0  \n",
       "25%              100.0  \n",
       "50%              100.0  \n",
       "75%              100.0  \n",
       "max                inf  "
      ]
     },
     "execution_count": 41,
     "metadata": {},
     "output_type": "execute_result"
    }
   ],
   "source": [
    "lowActPow = df[df[\"LV ActivePower (kW)\"] <= 0.0].copy()\n",
    "lowActPow.describe()"
   ]
  },
  {
   "cell_type": "markdown",
   "metadata": {},
   "source": [
    "PART 3 DISCUSSION QUESTION 2A\n",
    "\n",
    "10838 of 50530 observations of actual power are 0 or less."
   ]
  },
  {
   "cell_type": "code",
   "execution_count": 43,
   "metadata": {},
   "outputs": [],
   "source": [
    "lowActPowWS35 = lowActPow[lowActPow[\"Wind Speed (m/s)\"] >= 3.5].copy()\n",
    "lowActPowWS35[\"Month\"]=lowActPowWS35[\"Date/Time\"].apply(find_month)"
   ]
  },
  {
   "cell_type": "code",
   "execution_count": 45,
   "metadata": {},
   "outputs": [
    {
     "data": {
      "text/html": [
       "<div>\n",
       "<style scoped>\n",
       "    .dataframe tbody tr th:only-of-type {\n",
       "        vertical-align: middle;\n",
       "    }\n",
       "\n",
       "    .dataframe tbody tr th {\n",
       "        vertical-align: top;\n",
       "    }\n",
       "\n",
       "    .dataframe thead th {\n",
       "        text-align: right;\n",
       "    }\n",
       "</style>\n",
       "<table border=\"1\" class=\"dataframe\">\n",
       "  <thead>\n",
       "    <tr style=\"text-align: right;\">\n",
       "      <th></th>\n",
       "      <th>Observation Number</th>\n",
       "      <th>Date/Time</th>\n",
       "      <th>LV ActivePower (kW)</th>\n",
       "      <th>Wind Speed (m/s)</th>\n",
       "      <th>Theoretical_Power_Curve (KWh)</th>\n",
       "      <th>Wind Direction (°)</th>\n",
       "      <th>Loss</th>\n",
       "      <th>Loss Percentage</th>\n",
       "    </tr>\n",
       "    <tr>\n",
       "      <th>Month</th>\n",
       "      <th></th>\n",
       "      <th></th>\n",
       "      <th></th>\n",
       "      <th></th>\n",
       "      <th></th>\n",
       "      <th></th>\n",
       "      <th></th>\n",
       "      <th></th>\n",
       "    </tr>\n",
       "  </thead>\n",
       "  <tbody>\n",
       "    <tr>\n",
       "      <th>April</th>\n",
       "      <td>176</td>\n",
       "      <td>176</td>\n",
       "      <td>176</td>\n",
       "      <td>176</td>\n",
       "      <td>176</td>\n",
       "      <td>176</td>\n",
       "      <td>176</td>\n",
       "      <td>176</td>\n",
       "    </tr>\n",
       "    <tr>\n",
       "      <th>August</th>\n",
       "      <td>44</td>\n",
       "      <td>44</td>\n",
       "      <td>44</td>\n",
       "      <td>44</td>\n",
       "      <td>44</td>\n",
       "      <td>44</td>\n",
       "      <td>44</td>\n",
       "      <td>44</td>\n",
       "    </tr>\n",
       "    <tr>\n",
       "      <th>Dec</th>\n",
       "      <td>593</td>\n",
       "      <td>593</td>\n",
       "      <td>593</td>\n",
       "      <td>593</td>\n",
       "      <td>593</td>\n",
       "      <td>593</td>\n",
       "      <td>593</td>\n",
       "      <td>593</td>\n",
       "    </tr>\n",
       "    <tr>\n",
       "      <th>Feb</th>\n",
       "      <td>317</td>\n",
       "      <td>317</td>\n",
       "      <td>317</td>\n",
       "      <td>317</td>\n",
       "      <td>317</td>\n",
       "      <td>317</td>\n",
       "      <td>317</td>\n",
       "      <td>317</td>\n",
       "    </tr>\n",
       "    <tr>\n",
       "      <th>Jan</th>\n",
       "      <td>647</td>\n",
       "      <td>647</td>\n",
       "      <td>647</td>\n",
       "      <td>647</td>\n",
       "      <td>647</td>\n",
       "      <td>647</td>\n",
       "      <td>647</td>\n",
       "      <td>647</td>\n",
       "    </tr>\n",
       "    <tr>\n",
       "      <th>July</th>\n",
       "      <td>51</td>\n",
       "      <td>51</td>\n",
       "      <td>51</td>\n",
       "      <td>51</td>\n",
       "      <td>51</td>\n",
       "      <td>51</td>\n",
       "      <td>51</td>\n",
       "      <td>51</td>\n",
       "    </tr>\n",
       "    <tr>\n",
       "      <th>June</th>\n",
       "      <td>34</td>\n",
       "      <td>34</td>\n",
       "      <td>34</td>\n",
       "      <td>34</td>\n",
       "      <td>34</td>\n",
       "      <td>34</td>\n",
       "      <td>34</td>\n",
       "      <td>34</td>\n",
       "    </tr>\n",
       "    <tr>\n",
       "      <th>March</th>\n",
       "      <td>199</td>\n",
       "      <td>199</td>\n",
       "      <td>199</td>\n",
       "      <td>199</td>\n",
       "      <td>199</td>\n",
       "      <td>199</td>\n",
       "      <td>199</td>\n",
       "      <td>199</td>\n",
       "    </tr>\n",
       "    <tr>\n",
       "      <th>May</th>\n",
       "      <td>89</td>\n",
       "      <td>89</td>\n",
       "      <td>89</td>\n",
       "      <td>89</td>\n",
       "      <td>89</td>\n",
       "      <td>89</td>\n",
       "      <td>89</td>\n",
       "      <td>89</td>\n",
       "    </tr>\n",
       "    <tr>\n",
       "      <th>Nov</th>\n",
       "      <td>38</td>\n",
       "      <td>38</td>\n",
       "      <td>38</td>\n",
       "      <td>38</td>\n",
       "      <td>38</td>\n",
       "      <td>38</td>\n",
       "      <td>38</td>\n",
       "      <td>38</td>\n",
       "    </tr>\n",
       "    <tr>\n",
       "      <th>Oct</th>\n",
       "      <td>9</td>\n",
       "      <td>9</td>\n",
       "      <td>9</td>\n",
       "      <td>9</td>\n",
       "      <td>9</td>\n",
       "      <td>9</td>\n",
       "      <td>9</td>\n",
       "      <td>9</td>\n",
       "    </tr>\n",
       "    <tr>\n",
       "      <th>Sep</th>\n",
       "      <td>23</td>\n",
       "      <td>23</td>\n",
       "      <td>23</td>\n",
       "      <td>23</td>\n",
       "      <td>23</td>\n",
       "      <td>23</td>\n",
       "      <td>23</td>\n",
       "      <td>23</td>\n",
       "    </tr>\n",
       "  </tbody>\n",
       "</table>\n",
       "</div>"
      ],
      "text/plain": [
       "        Observation Number  Date/Time  LV ActivePower (kW)  Wind Speed (m/s)  \\\n",
       "Month                                                                          \n",
       "April                  176        176                  176               176   \n",
       "August                  44         44                   44                44   \n",
       "Dec                    593        593                  593               593   \n",
       "Feb                    317        317                  317               317   \n",
       "Jan                    647        647                  647               647   \n",
       "July                    51         51                   51                51   \n",
       "June                    34         34                   34                34   \n",
       "March                  199        199                  199               199   \n",
       "May                     89         89                   89                89   \n",
       "Nov                     38         38                   38                38   \n",
       "Oct                      9          9                    9                 9   \n",
       "Sep                     23         23                   23                23   \n",
       "\n",
       "        Theoretical_Power_Curve (KWh)  Wind Direction (°)  Loss  \\\n",
       "Month                                                             \n",
       "April                             176                 176   176   \n",
       "August                             44                  44    44   \n",
       "Dec                               593                 593   593   \n",
       "Feb                               317                 317   317   \n",
       "Jan                               647                 647   647   \n",
       "July                               51                  51    51   \n",
       "June                               34                  34    34   \n",
       "March                             199                 199   199   \n",
       "May                                89                  89    89   \n",
       "Nov                                38                  38    38   \n",
       "Oct                                 9                   9     9   \n",
       "Sep                                23                  23    23   \n",
       "\n",
       "        Loss Percentage  \n",
       "Month                    \n",
       "April               176  \n",
       "August               44  \n",
       "Dec                 593  \n",
       "Feb                 317  \n",
       "Jan                 647  \n",
       "July                 51  \n",
       "June                 34  \n",
       "March               199  \n",
       "May                  89  \n",
       "Nov                  38  \n",
       "Oct                   9  \n",
       "Sep                  23  "
      ]
     },
     "execution_count": 45,
     "metadata": {},
     "output_type": "execute_result"
    }
   ],
   "source": [
    "lowActPowWS35.groupby(\"Month\").count()"
   ]
  },
  {
   "cell_type": "markdown",
   "metadata": {},
   "source": [
    "PART 3 DISCUSSION QUESTION 2B\n",
    "\n",
    "January, December, and February have the most power output values of 0 when the wind speed is greater than 3.5 m/s. I notice that these months fall during winter in the northern hemisphere.\n",
    "\n",
    "PART 3 DISCUSSION QUESTION 2C\n",
    "\n",
    "I think freezing temperatures in winter and potentially snow in Turkey may have interfered with the turbines' function and caused the anomalous values. "
   ]
  },
  {
   "cell_type": "code",
   "execution_count": 48,
   "metadata": {
    "scrolled": false
   },
   "outputs": [
    {
     "data": {
      "text/html": [
       "<div>\n",
       "<style scoped>\n",
       "    .dataframe tbody tr th:only-of-type {\n",
       "        vertical-align: middle;\n",
       "    }\n",
       "\n",
       "    .dataframe tbody tr th {\n",
       "        vertical-align: top;\n",
       "    }\n",
       "\n",
       "    .dataframe thead th {\n",
       "        text-align: right;\n",
       "    }\n",
       "</style>\n",
       "<table border=\"1\" class=\"dataframe\">\n",
       "  <thead>\n",
       "    <tr style=\"text-align: right;\">\n",
       "      <th></th>\n",
       "      <th>Observation Number</th>\n",
       "      <th>LV ActivePower (kW)</th>\n",
       "      <th>Wind Speed (m/s)</th>\n",
       "      <th>Theoretical_Power_Curve (KWh)</th>\n",
       "      <th>Wind Direction (°)</th>\n",
       "      <th>Loss</th>\n",
       "      <th>Loss Percentage</th>\n",
       "    </tr>\n",
       "    <tr>\n",
       "      <th>Month</th>\n",
       "      <th></th>\n",
       "      <th></th>\n",
       "      <th></th>\n",
       "      <th></th>\n",
       "      <th></th>\n",
       "      <th></th>\n",
       "      <th></th>\n",
       "    </tr>\n",
       "  </thead>\n",
       "  <tbody>\n",
       "    <tr>\n",
       "      <th>April</th>\n",
       "      <td>12895.5</td>\n",
       "      <td>0.0</td>\n",
       "      <td>5.203002</td>\n",
       "      <td>387.488548</td>\n",
       "      <td>217.170601</td>\n",
       "      <td>387.488548</td>\n",
       "      <td>100.0</td>\n",
       "    </tr>\n",
       "    <tr>\n",
       "      <th>August</th>\n",
       "      <td>30187.5</td>\n",
       "      <td>0.0</td>\n",
       "      <td>9.836378</td>\n",
       "      <td>2686.008693</td>\n",
       "      <td>48.477430</td>\n",
       "      <td>2686.008693</td>\n",
       "      <td>100.0</td>\n",
       "    </tr>\n",
       "    <tr>\n",
       "      <th>Dec</th>\n",
       "      <td>48904.0</td>\n",
       "      <td>0.0</td>\n",
       "      <td>5.401735</td>\n",
       "      <td>441.171303</td>\n",
       "      <td>62.150761</td>\n",
       "      <td>441.171303</td>\n",
       "      <td>100.0</td>\n",
       "    </tr>\n",
       "    <tr>\n",
       "      <th>Feb</th>\n",
       "      <td>7405.0</td>\n",
       "      <td>0.0</td>\n",
       "      <td>7.867034</td>\n",
       "      <td>1454.796780</td>\n",
       "      <td>77.580917</td>\n",
       "      <td>1454.796780</td>\n",
       "      <td>100.0</td>\n",
       "    </tr>\n",
       "    <tr>\n",
       "      <th>Jan</th>\n",
       "      <td>3318.0</td>\n",
       "      <td>0.0</td>\n",
       "      <td>9.005681</td>\n",
       "      <td>2147.653892</td>\n",
       "      <td>41.116791</td>\n",
       "      <td>2147.653892</td>\n",
       "      <td>100.0</td>\n",
       "    </tr>\n",
       "    <tr>\n",
       "      <th>July</th>\n",
       "      <td>27503.0</td>\n",
       "      <td>0.0</td>\n",
       "      <td>3.617157</td>\n",
       "      <td>66.219643</td>\n",
       "      <td>78.003647</td>\n",
       "      <td>66.219643</td>\n",
       "      <td>100.0</td>\n",
       "    </tr>\n",
       "    <tr>\n",
       "      <th>June</th>\n",
       "      <td>23222.0</td>\n",
       "      <td>0.0</td>\n",
       "      <td>3.792783</td>\n",
       "      <td>91.650506</td>\n",
       "      <td>81.909363</td>\n",
       "      <td>91.650506</td>\n",
       "      <td>100.0</td>\n",
       "    </tr>\n",
       "    <tr>\n",
       "      <th>March</th>\n",
       "      <td>8504.0</td>\n",
       "      <td>0.0</td>\n",
       "      <td>4.261243</td>\n",
       "      <td>173.100465</td>\n",
       "      <td>188.543594</td>\n",
       "      <td>173.100465</td>\n",
       "      <td>100.0</td>\n",
       "    </tr>\n",
       "    <tr>\n",
       "      <th>May</th>\n",
       "      <td>17552.0</td>\n",
       "      <td>0.0</td>\n",
       "      <td>4.242845</td>\n",
       "      <td>169.461878</td>\n",
       "      <td>87.939468</td>\n",
       "      <td>169.461878</td>\n",
       "      <td>100.0</td>\n",
       "    </tr>\n",
       "    <tr>\n",
       "      <th>Nov</th>\n",
       "      <td>43725.5</td>\n",
       "      <td>0.0</td>\n",
       "      <td>6.494215</td>\n",
       "      <td>803.772971</td>\n",
       "      <td>34.409300</td>\n",
       "      <td>803.772971</td>\n",
       "      <td>100.0</td>\n",
       "    </tr>\n",
       "    <tr>\n",
       "      <th>Oct</th>\n",
       "      <td>41124.0</td>\n",
       "      <td>0.0</td>\n",
       "      <td>3.735515</td>\n",
       "      <td>82.815083</td>\n",
       "      <td>78.509567</td>\n",
       "      <td>82.815083</td>\n",
       "      <td>100.0</td>\n",
       "    </tr>\n",
       "    <tr>\n",
       "      <th>Sep</th>\n",
       "      <td>36039.0</td>\n",
       "      <td>0.0</td>\n",
       "      <td>3.851699</td>\n",
       "      <td>101.285682</td>\n",
       "      <td>66.469910</td>\n",
       "      <td>101.285682</td>\n",
       "      <td>100.0</td>\n",
       "    </tr>\n",
       "  </tbody>\n",
       "</table>\n",
       "</div>"
      ],
      "text/plain": [
       "        Observation Number  LV ActivePower (kW)  Wind Speed (m/s)  \\\n",
       "Month                                                               \n",
       "April              12895.5                  0.0          5.203002   \n",
       "August             30187.5                  0.0          9.836378   \n",
       "Dec                48904.0                  0.0          5.401735   \n",
       "Feb                 7405.0                  0.0          7.867034   \n",
       "Jan                 3318.0                  0.0          9.005681   \n",
       "July               27503.0                  0.0          3.617157   \n",
       "June               23222.0                  0.0          3.792783   \n",
       "March               8504.0                  0.0          4.261243   \n",
       "May                17552.0                  0.0          4.242845   \n",
       "Nov                43725.5                  0.0          6.494215   \n",
       "Oct                41124.0                  0.0          3.735515   \n",
       "Sep                36039.0                  0.0          3.851699   \n",
       "\n",
       "        Theoretical_Power_Curve (KWh)  Wind Direction (°)         Loss  \\\n",
       "Month                                                                    \n",
       "April                      387.488548          217.170601   387.488548   \n",
       "August                    2686.008693           48.477430  2686.008693   \n",
       "Dec                        441.171303           62.150761   441.171303   \n",
       "Feb                       1454.796780           77.580917  1454.796780   \n",
       "Jan                       2147.653892           41.116791  2147.653892   \n",
       "July                        66.219643           78.003647    66.219643   \n",
       "June                        91.650506           81.909363    91.650506   \n",
       "March                      173.100465          188.543594   173.100465   \n",
       "May                        169.461878           87.939468   169.461878   \n",
       "Nov                        803.772971           34.409300   803.772971   \n",
       "Oct                         82.815083           78.509567    82.815083   \n",
       "Sep                        101.285682           66.469910   101.285682   \n",
       "\n",
       "        Loss Percentage  \n",
       "Month                    \n",
       "April             100.0  \n",
       "August            100.0  \n",
       "Dec               100.0  \n",
       "Feb               100.0  \n",
       "Jan               100.0  \n",
       "July              100.0  \n",
       "June              100.0  \n",
       "March             100.0  \n",
       "May               100.0  \n",
       "Nov               100.0  \n",
       "Oct               100.0  \n",
       "Sep               100.0  "
      ]
     },
     "execution_count": 48,
     "metadata": {},
     "output_type": "execute_result"
    }
   ],
   "source": [
    "lowActPowWS35.groupby(\"Month\").median()"
   ]
  },
  {
   "cell_type": "markdown",
   "metadata": {},
   "source": [
    "PART 4 FINAL WRITE UP\n",
    "\n",
    "It was observed that over 20% of the time (10838 out of 50530 observations), no power is being generated by the plant. The wind farm is least effective December through January, when there are the most observations of no power generation. Conversely, the plant is most effective in June, September, and October, when there are the least observations of zero power generation. This performance is affected by wind speed, which has a strong positive correlation with actual power, and wind direction, which has a weak correlation with actual power although there are two ranges of optimal wind directions. Also, at lower wind speeds, there are greater losses observed. From these results, some tentative conclusions are that losses are coming from low wind speeds and unfavorable weather conditions in winter months, and increasing cleaning/maintenance in winter months may be of interest. "
   ]
  },
  {
   "cell_type": "code",
   "execution_count": 55,
   "metadata": {},
   "outputs": [],
   "source": [
    "def find_direction(x):\n",
    "    if (337.5 <= x and x <= 360) or (0 <= x and x < 22.5):\n",
    "        return \"N\"\n",
    "    elif (22.5 <= x and x < 67.5):\n",
    "        return \"NE\"\n",
    "    elif (67.5 <= x and x < 112.5):\n",
    "        return \"E\"    \n",
    "    elif (112.5 <= x and x < 157.5):\n",
    "        return \"SE\"    \n",
    "    elif (157.5 <= x and x < 202.5):\n",
    "        return \"S\"    \n",
    "    elif (202.5 <= x and x < 247.5):\n",
    "        return \"SW\"    \n",
    "    elif (247.5 <= x and x < 292.5):\n",
    "        return \"W\"    \n",
    "    elif (292.5 <= x and x < 337.5):\n",
    "        return \"NW\""
   ]
  },
  {
   "cell_type": "code",
   "execution_count": 56,
   "metadata": {},
   "outputs": [],
   "source": [
    "df[\"Wind Direction\"] = df[\"Wind Direction (°)\"].apply(find_direction)"
   ]
  },
  {
   "cell_type": "code",
   "execution_count": 57,
   "metadata": {},
   "outputs": [
    {
     "data": {
      "text/html": [
       "<div>\n",
       "<style scoped>\n",
       "    .dataframe tbody tr th:only-of-type {\n",
       "        vertical-align: middle;\n",
       "    }\n",
       "\n",
       "    .dataframe tbody tr th {\n",
       "        vertical-align: top;\n",
       "    }\n",
       "\n",
       "    .dataframe thead th {\n",
       "        text-align: right;\n",
       "    }\n",
       "</style>\n",
       "<table border=\"1\" class=\"dataframe\">\n",
       "  <thead>\n",
       "    <tr style=\"text-align: right;\">\n",
       "      <th></th>\n",
       "      <th>Observation Number</th>\n",
       "      <th>LV ActivePower (kW)</th>\n",
       "      <th>Wind Speed (m/s)</th>\n",
       "      <th>Theoretical_Power_Curve (KWh)</th>\n",
       "      <th>Wind Direction (°)</th>\n",
       "      <th>Loss</th>\n",
       "      <th>Loss Percentage</th>\n",
       "    </tr>\n",
       "    <tr>\n",
       "      <th>Wind Direction</th>\n",
       "      <th></th>\n",
       "      <th></th>\n",
       "      <th></th>\n",
       "      <th></th>\n",
       "      <th></th>\n",
       "      <th></th>\n",
       "      <th></th>\n",
       "    </tr>\n",
       "  </thead>\n",
       "  <tbody>\n",
       "    <tr>\n",
       "      <th>E</th>\n",
       "      <td>26812.579110</td>\n",
       "      <td>1114.759573</td>\n",
       "      <td>6.866874</td>\n",
       "      <td>1295.280627</td>\n",
       "      <td>78.632895</td>\n",
       "      <td>180.521053</td>\n",
       "      <td>NaN</td>\n",
       "    </tr>\n",
       "    <tr>\n",
       "      <th>N</th>\n",
       "      <td>28216.770000</td>\n",
       "      <td>747.245912</td>\n",
       "      <td>5.747044</td>\n",
       "      <td>934.791544</td>\n",
       "      <td>106.725903</td>\n",
       "      <td>187.545632</td>\n",
       "      <td>NaN</td>\n",
       "    </tr>\n",
       "    <tr>\n",
       "      <th>NE</th>\n",
       "      <td>28368.255133</td>\n",
       "      <td>1430.793404</td>\n",
       "      <td>7.943550</td>\n",
       "      <td>1675.468505</td>\n",
       "      <td>47.550574</td>\n",
       "      <td>244.675101</td>\n",
       "      <td>NaN</td>\n",
       "    </tr>\n",
       "    <tr>\n",
       "      <th>NW</th>\n",
       "      <td>23234.610236</td>\n",
       "      <td>325.346997</td>\n",
       "      <td>3.777762</td>\n",
       "      <td>385.069795</td>\n",
       "      <td>314.929966</td>\n",
       "      <td>59.722798</td>\n",
       "      <td>NaN</td>\n",
       "    </tr>\n",
       "    <tr>\n",
       "      <th>S</th>\n",
       "      <td>20171.287993</td>\n",
       "      <td>2075.145438</td>\n",
       "      <td>10.422858</td>\n",
       "      <td>2209.294360</td>\n",
       "      <td>188.756925</td>\n",
       "      <td>134.148922</td>\n",
       "      <td>NaN</td>\n",
       "    </tr>\n",
       "    <tr>\n",
       "      <th>SE</th>\n",
       "      <td>22483.484013</td>\n",
       "      <td>349.568561</td>\n",
       "      <td>4.096497</td>\n",
       "      <td>415.526953</td>\n",
       "      <td>133.842105</td>\n",
       "      <td>65.958392</td>\n",
       "      <td>NaN</td>\n",
       "    </tr>\n",
       "    <tr>\n",
       "      <th>SW</th>\n",
       "      <td>20033.125821</td>\n",
       "      <td>1576.508193</td>\n",
       "      <td>8.437897</td>\n",
       "      <td>1740.499537</td>\n",
       "      <td>219.033959</td>\n",
       "      <td>163.991344</td>\n",
       "      <td>NaN</td>\n",
       "    </tr>\n",
       "    <tr>\n",
       "      <th>W</th>\n",
       "      <td>23651.519608</td>\n",
       "      <td>442.361951</td>\n",
       "      <td>4.633641</td>\n",
       "      <td>546.051393</td>\n",
       "      <td>267.898476</td>\n",
       "      <td>103.689442</td>\n",
       "      <td>NaN</td>\n",
       "    </tr>\n",
       "  </tbody>\n",
       "</table>\n",
       "</div>"
      ],
      "text/plain": [
       "                Observation Number  LV ActivePower (kW)  Wind Speed (m/s)  \\\n",
       "Wind Direction                                                              \n",
       "E                     26812.579110          1114.759573          6.866874   \n",
       "N                     28216.770000           747.245912          5.747044   \n",
       "NE                    28368.255133          1430.793404          7.943550   \n",
       "NW                    23234.610236           325.346997          3.777762   \n",
       "S                     20171.287993          2075.145438         10.422858   \n",
       "SE                    22483.484013           349.568561          4.096497   \n",
       "SW                    20033.125821          1576.508193          8.437897   \n",
       "W                     23651.519608           442.361951          4.633641   \n",
       "\n",
       "                Theoretical_Power_Curve (KWh)  Wind Direction (°)        Loss  \\\n",
       "Wind Direction                                                                  \n",
       "E                                 1295.280627           78.632895  180.521053   \n",
       "N                                  934.791544          106.725903  187.545632   \n",
       "NE                                1675.468505           47.550574  244.675101   \n",
       "NW                                 385.069795          314.929966   59.722798   \n",
       "S                                 2209.294360          188.756925  134.148922   \n",
       "SE                                 415.526953          133.842105   65.958392   \n",
       "SW                                1740.499537          219.033959  163.991344   \n",
       "W                                  546.051393          267.898476  103.689442   \n",
       "\n",
       "                Loss Percentage  \n",
       "Wind Direction                   \n",
       "E                           NaN  \n",
       "N                           NaN  \n",
       "NE                          NaN  \n",
       "NW                          NaN  \n",
       "S                           NaN  \n",
       "SE                          NaN  \n",
       "SW                          NaN  \n",
       "W                           NaN  "
      ]
     },
     "execution_count": 57,
     "metadata": {},
     "output_type": "execute_result"
    }
   ],
   "source": [
    "df.groupby(\"Wind Direction\").mean()"
   ]
  },
  {
   "cell_type": "markdown",
   "metadata": {},
   "source": [
    "HONORS ADDENDUM\n",
    "\n",
    "The mean wind speed in each direction is:\n",
    "North - 5.75 m/s\n",
    "Northeast - 7.94 m/s\n",
    "East - 6.87 m/s\n",
    "Southeast - 4.10 m/s\n",
    "South - 10.42 m/s\n",
    "Southwest - 8.44 m/s\n",
    "West - 4.63 m/s"
   ]
  },
  {
   "cell_type": "code",
   "execution_count": null,
   "metadata": {},
   "outputs": [],
   "source": []
  }
 ],
 "metadata": {
  "kernelspec": {
   "display_name": "Python 3",
   "language": "python",
   "name": "python3"
  },
  "language_info": {
   "codemirror_mode": {
    "name": "ipython",
    "version": 3
   },
   "file_extension": ".py",
   "mimetype": "text/x-python",
   "name": "python",
   "nbconvert_exporter": "python",
   "pygments_lexer": "ipython3",
   "version": "3.7.10"
  }
 },
 "nbformat": 4,
 "nbformat_minor": 4
}
